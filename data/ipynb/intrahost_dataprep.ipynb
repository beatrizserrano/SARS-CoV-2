{
  "nbformat": 4,
  "nbformat_minor": 0,
  "metadata": {
    "colab": {
      "name": "intrahost_dataprep.ipynb",
      "provenance": []
    },
    "kernelspec": {
      "name": "python3",
      "display_name": "Python 3"
    }
  },
  "cells": [
    {
      "cell_type": "markdown",
      "metadata": {
        "id": "Vu7QptAGqUKQ"
      },
      "source": [
        "# Preparing data\n",
        "\n",
        "This notebook reads data processed by Galaxy and\n",
        "\n",
        " 1. Validates sites to ensire that coordinates are correct\n",
        " 2. Adds information about variants of concern (VOC) and sites under selection\n"
      ]
    },
    {
      "cell_type": "code",
      "metadata": {
        "id": "cIK2BG_RA7W1"
      },
      "source": [
        "import pandas as pd"
      ],
      "execution_count": 77,
      "outputs": []
    },
    {
      "cell_type": "code",
      "metadata": {
        "id": "F4pCWZVcA-q3",
        "outputId": "3e89c1a1-5ed8-4b77-c3db-e4060daddbcc",
        "colab": {
          "base_uri": "https://localhost:8080/"
        }
      },
      "source": [
        "!pip install biopython pandasql"
      ],
      "execution_count": 78,
      "outputs": [
        {
          "output_type": "stream",
          "text": [
            "Requirement already satisfied: biopython in /usr/local/lib/python3.6/dist-packages (1.78)\n",
            "Requirement already satisfied: pandasql in /usr/local/lib/python3.6/dist-packages (0.7.3)\n",
            "Requirement already satisfied: numpy in /usr/local/lib/python3.6/dist-packages (from biopython) (1.19.5)\n",
            "Requirement already satisfied: pandas in /usr/local/lib/python3.6/dist-packages (from pandasql) (1.1.5)\n",
            "Requirement already satisfied: sqlalchemy in /usr/local/lib/python3.6/dist-packages (from pandasql) (1.3.23)\n",
            "Requirement already satisfied: pytz>=2017.2 in /usr/local/lib/python3.6/dist-packages (from pandas->pandasql) (2018.9)\n",
            "Requirement already satisfied: python-dateutil>=2.7.3 in /usr/local/lib/python3.6/dist-packages (from pandas->pandasql) (2.8.1)\n",
            "Requirement already satisfied: six>=1.5 in /usr/local/lib/python3.6/dist-packages (from python-dateutil>=2.7.3->pandas->pandasql) (1.15.0)\n"
          ],
          "name": "stdout"
        }
      ]
    },
    {
      "cell_type": "code",
      "metadata": {
        "id": "FXg3tWVDC2Bc"
      },
      "source": [
        "from pandasql import sqldf\n",
        "pysqldf = lambda q: sqldf(q, globals())"
      ],
      "execution_count": 79,
      "outputs": []
    },
    {
      "cell_type": "code",
      "metadata": {
        "id": "afM6ZJfZgwHo"
      },
      "source": [
        "funclass_translation = {'SILENT':'Synonymous','MISSENSE':'Non-synonymous','NONSENSE':'Stop','.':'Non-coding','NONE':'Indel'}"
      ],
      "execution_count": 80,
      "outputs": []
    },
    {
      "cell_type": "markdown",
      "metadata": {
        "id": "3KKkgGSTQBEj"
      },
      "source": [
        "## Which dataset to run notebook on?\n",
        "At this time there are three possible datasets:\n",
        "\n",
        " - Boston: `bos`\n",
        " - COG-Pre: `cog-pre`\n",
        " - COG-Post: `cog-post`\n",
        "\n",
        "Setting this variable runs all notebook content for this particular dataset. The actual paths are pulled out from `datasets` dict (next cell)"
      ]
    },
    {
      "cell_type": "code",
      "metadata": {
        "id": "VeM9UwoaP7xk"
      },
      "source": [
        "dataset = 'cog-post'"
      ],
      "execution_count": 81,
      "outputs": []
    },
    {
      "cell_type": "code",
      "metadata": {
        "id": "5leIFwH3Qcx7"
      },
      "source": [
        "datasets = {\n",
        "    'bos':\n",
        "        [   \n",
        "            'https://github.com/galaxyproject/SARS-CoV-2/raw/master/data/var/bos_by_sample.tsv.gz',\n",
        "            'https://github.com/galaxyproject/SARS-CoV-2/raw/master/data/var/bos_by_var.tsv.gz'\n",
        "        ],\n",
        "    'cog-pre': \n",
        "        [   \n",
        "            'https://github.com/galaxyproject/SARS-CoV-2/raw/master/data/var/cog_20200917_by_sample.tsv.gz',\n",
        "            'https://github.com/galaxyproject/SARS-CoV-2/raw/master/data/var/cog_20200917_by_var.tsv.gz'\n",
        "        ],\n",
        "    'cog-post': \n",
        "        [   \n",
        "            'https://github.com/galaxyproject/SARS-CoV-2/raw/master/data/var/cog_20201120_by_sample.tsv.gz',\n",
        "            'https://github.com/galaxyproject/SARS-CoV-2/raw/master/data/var/cog_20201120_by_var.tsv.gz'\n",
        "        ]\n",
        "}"
      ],
      "execution_count": 82,
      "outputs": []
    },
    {
      "cell_type": "code",
      "metadata": {
        "id": "6MRXk5huoSCv"
      },
      "source": [
        "# SARS-CoV-2 genome assembly url\n",
        "gnm_url = 'https://ftp.ncbi.nlm.nih.gov/genomes/all/GCF/009/858/895/GCF_009858895.2_ASM985889v3/GCF_009858895.2_ASM985889v3_genomic.gbff.gz'\n",
        "gnm_file = gnm_url.split('/')[-1]\n",
        "\n",
        "# VOC data\n",
        "voc_url = 'https://github.com/galaxyproject/SARS-CoV-2/raw/master/data/voc/voc.tsv.gz'\n",
        "\n",
        "# Selection data\n",
        "sel_url = 'https://github.com/galaxyproject/SARS-CoV-2/raw/master/data/selection/selection.tsv.gz'"
      ],
      "execution_count": 83,
      "outputs": []
    },
    {
      "cell_type": "code",
      "metadata": {
        "id": "UBPHCf3PvMpq",
        "outputId": "263fe773-9df7-43b6-b43a-c97623cd954e",
        "colab": {
          "base_uri": "https://localhost:8080/"
        }
      },
      "source": [
        "# Get SARS-CoV-2 RefSeq genomes (in GenBank format) from NCBI\n",
        "import os.path\n",
        "from os import path\n",
        "if not path.exists(gnm_file[:-3]):\n",
        "    !wget -nc {gnm_url}\n",
        "    !gunzip {gnm_file}\n",
        "else:\n",
        "    print('File {} is already here\\nDoing nothing!'.format(gnm_file))"
      ],
      "execution_count": 84,
      "outputs": [
        {
          "output_type": "stream",
          "text": [
            "File GCF_009858895.2_ASM985889v3_genomic.gbff.gz is already here\n",
            "Doing nothing!\n"
          ],
          "name": "stdout"
        }
      ]
    },
    {
      "cell_type": "code",
      "metadata": {
        "id": "QmZS9EEgvt9u"
      },
      "source": [
        "from Bio import SeqIO\n",
        "genome = SeqIO.read(gnm_file[0:len(gnm_file)-3], \"genbank\")"
      ],
      "execution_count": 85,
      "outputs": []
    },
    {
      "cell_type": "code",
      "metadata": {
        "id": "JSz-w_zW7v5n"
      },
      "source": [
        "# Get variants by sample\n",
        "var = pd.read_csv(datasets[dataset][0],sep='\\t')"
      ],
      "execution_count": 86,
      "outputs": []
    },
    {
      "cell_type": "code",
      "metadata": {
        "id": "rNvDYI4qZcJT",
        "outputId": "deaf3159-8451-42bb-84c5-8ddfe1543e36",
        "colab": {
          "base_uri": "https://localhost:8080/"
        }
      },
      "source": [
        "len(var)"
      ],
      "execution_count": 87,
      "outputs": [
        {
          "output_type": "execute_result",
          "data": {
            "text/plain": [
              "38919"
            ]
          },
          "metadata": {
            "tags": []
          },
          "execution_count": 87
        }
      ]
    },
    {
      "cell_type": "code",
      "metadata": {
        "id": "-yI0BHbIhVze"
      },
      "source": [
        "var = var.replace({'FUNCLASS':funclass_translation})"
      ],
      "execution_count": 88,
      "outputs": []
    },
    {
      "cell_type": "code",
      "metadata": {
        "id": "nzg3np_sYLgx"
      },
      "source": [
        "# Changing coordinates to 0-based\n",
        "var['POS'] = var['POS']-1"
      ],
      "execution_count": 89,
      "outputs": []
    },
    {
      "cell_type": "code",
      "metadata": {
        "id": "J6XdtU9yRGau"
      },
      "source": [
        "# Validation function for checking against genome\n",
        "\n",
        "def check_against_genome(seqobject,df,pos_base_list,l):\n",
        "    wrong = []\n",
        "    slip_sites = dict()\n",
        "    bad = 0\n",
        "    good = 0\n",
        "    pb = df[pos_base_list].to_numpy()\n",
        "    for item in pb:\n",
        "        base = seqobject[item[0]:(item[0])+l].seq\n",
        "        if base != item[1] and len(base) == len(item[1]):\n",
        "            slip = seqobject[(item[0]-1):(item[0]-1)+l].seq\n",
        "            if slip == item[1]:\n",
        "                good += 1\n",
        "                slip_sites[item[0]] = True\n",
        "            else:\n",
        "                bad += 1\n",
        "                wrong.append([item[1],base,item[0]])\n",
        "        elif base == item[1] and len(base) == len(item[1]): \n",
        "            good += 1\n",
        "    print ('Total = {}, Wrong = {}, Correct = {}'.format(len(pb),bad,good))\n",
        "    return(slip_sites,wrong)"
      ],
      "execution_count": 90,
      "outputs": []
    },
    {
      "cell_type": "code",
      "metadata": {
        "id": "zBOFoCnPWGn9",
        "outputId": "569cdbb1-03e6-49bd-e103-cc40eff15229",
        "colab": {
          "base_uri": "https://localhost:8080/"
        }
      },
      "source": [
        "check_against_genome(genome,var,['POS','REF'],1)"
      ],
      "execution_count": 91,
      "outputs": [
        {
          "output_type": "stream",
          "text": [
            "Total = 38919, Wrong = 0, Correct = 37706\n"
          ],
          "name": "stdout"
        },
        {
          "output_type": "execute_result",
          "data": {
            "text/plain": [
              "({}, [])"
            ]
          },
          "metadata": {
            "tags": []
          },
          "execution_count": 91
        }
      ]
    },
    {
      "cell_type": "code",
      "metadata": {
        "id": "g0Q2q96i8Tb4",
        "outputId": "d2279f17-6565-4689-9cc9-44c9d4ddd29c",
        "colab": {
          "base_uri": "https://localhost:8080/",
          "height": 224
        }
      },
      "source": [
        "var.head()"
      ],
      "execution_count": 92,
      "outputs": [
        {
          "output_type": "execute_result",
          "data": {
            "text/html": [
              "<div>\n",
              "<style scoped>\n",
              "    .dataframe tbody tr th:only-of-type {\n",
              "        vertical-align: middle;\n",
              "    }\n",
              "\n",
              "    .dataframe tbody tr th {\n",
              "        vertical-align: top;\n",
              "    }\n",
              "\n",
              "    .dataframe thead th {\n",
              "        text-align: right;\n",
              "    }\n",
              "</style>\n",
              "<table border=\"1\" class=\"dataframe\">\n",
              "  <thead>\n",
              "    <tr style=\"text-align: right;\">\n",
              "      <th></th>\n",
              "      <th>Sample</th>\n",
              "      <th>POS</th>\n",
              "      <th>FILTER</th>\n",
              "      <th>REF</th>\n",
              "      <th>ALT</th>\n",
              "      <th>DP</th>\n",
              "      <th>AF</th>\n",
              "      <th>SB</th>\n",
              "      <th>DP4</th>\n",
              "      <th>IMPACT</th>\n",
              "      <th>FUNCLASS</th>\n",
              "      <th>EFFECT</th>\n",
              "      <th>GENE</th>\n",
              "      <th>CODON</th>\n",
              "      <th>AA</th>\n",
              "      <th>TRID</th>\n",
              "      <th>min(AF)</th>\n",
              "      <th>max(AF)</th>\n",
              "      <th>countunique(change)</th>\n",
              "      <th>countunique(FUNCLASS)</th>\n",
              "      <th>change</th>\n",
              "    </tr>\n",
              "  </thead>\n",
              "  <tbody>\n",
              "    <tr>\n",
              "      <th>0</th>\n",
              "      <td>ERR4859723</td>\n",
              "      <td>65</td>\n",
              "      <td>.</td>\n",
              "      <td>C</td>\n",
              "      <td>T</td>\n",
              "      <td>61</td>\n",
              "      <td>0.934426</td>\n",
              "      <td>2147483647</td>\n",
              "      <td>0,0,61,0</td>\n",
              "      <td>.</td>\n",
              "      <td>Non-coding</td>\n",
              "      <td>.</td>\n",
              "      <td>.</td>\n",
              "      <td>.</td>\n",
              "      <td>.</td>\n",
              "      <td>.</td>\n",
              "      <td>0.001100</td>\n",
              "      <td>1.000000</td>\n",
              "      <td>1</td>\n",
              "      <td>1</td>\n",
              "      <td>C&gt;T</td>\n",
              "    </tr>\n",
              "    <tr>\n",
              "      <th>1</th>\n",
              "      <td>ERR4859723</td>\n",
              "      <td>240</td>\n",
              "      <td>PASS</td>\n",
              "      <td>C</td>\n",
              "      <td>T</td>\n",
              "      <td>99</td>\n",
              "      <td>0.858586</td>\n",
              "      <td>0</td>\n",
              "      <td>0,0,50,49</td>\n",
              "      <td>.</td>\n",
              "      <td>Non-coding</td>\n",
              "      <td>.</td>\n",
              "      <td>.</td>\n",
              "      <td>.</td>\n",
              "      <td>.</td>\n",
              "      <td>.</td>\n",
              "      <td>0.625000</td>\n",
              "      <td>1.000000</td>\n",
              "      <td>1</td>\n",
              "      <td>1</td>\n",
              "      <td>C&gt;T</td>\n",
              "    </tr>\n",
              "    <tr>\n",
              "      <th>2</th>\n",
              "      <td>ERR4859723</td>\n",
              "      <td>444</td>\n",
              "      <td>PASS</td>\n",
              "      <td>T</td>\n",
              "      <td>C</td>\n",
              "      <td>12061</td>\n",
              "      <td>0.985076</td>\n",
              "      <td>0</td>\n",
              "      <td>10,0,12050,0</td>\n",
              "      <td>LOW</td>\n",
              "      <td>Synonymous</td>\n",
              "      <td>SYNONYMOUS_CODING</td>\n",
              "      <td>ORF1ab</td>\n",
              "      <td>gtT/gtC</td>\n",
              "      <td>V60</td>\n",
              "      <td>leader</td>\n",
              "      <td>0.009013</td>\n",
              "      <td>1.000000</td>\n",
              "      <td>2</td>\n",
              "      <td>1</td>\n",
              "      <td>T&gt;C</td>\n",
              "    </tr>\n",
              "    <tr>\n",
              "      <th>3</th>\n",
              "      <td>ERR4859723</td>\n",
              "      <td>528</td>\n",
              "      <td>PASS</td>\n",
              "      <td>G</td>\n",
              "      <td>A</td>\n",
              "      <td>22724</td>\n",
              "      <td>0.764654</td>\n",
              "      <td>42</td>\n",
              "      <td>19,1,11729,10573</td>\n",
              "      <td>LOW</td>\n",
              "      <td>Synonymous</td>\n",
              "      <td>SYNONYMOUS_CODING</td>\n",
              "      <td>ORF1ab</td>\n",
              "      <td>ctG/ctA</td>\n",
              "      <td>L88</td>\n",
              "      <td>leader</td>\n",
              "      <td>0.001161</td>\n",
              "      <td>0.764654</td>\n",
              "      <td>3</td>\n",
              "      <td>1</td>\n",
              "      <td>G&gt;A</td>\n",
              "    </tr>\n",
              "    <tr>\n",
              "      <th>4</th>\n",
              "      <td>ERR4859723</td>\n",
              "      <td>1986</td>\n",
              "      <td>PASS</td>\n",
              "      <td>A</td>\n",
              "      <td>G</td>\n",
              "      <td>4812</td>\n",
              "      <td>0.926434</td>\n",
              "      <td>0</td>\n",
              "      <td>4,0,4797,0</td>\n",
              "      <td>LOW</td>\n",
              "      <td>Synonymous</td>\n",
              "      <td>SYNONYMOUS_CODING</td>\n",
              "      <td>ORF1ab</td>\n",
              "      <td>tcA/tcG</td>\n",
              "      <td>S394</td>\n",
              "      <td>nsp2</td>\n",
              "      <td>0.001533</td>\n",
              "      <td>1.000000</td>\n",
              "      <td>1</td>\n",
              "      <td>1</td>\n",
              "      <td>A&gt;G</td>\n",
              "    </tr>\n",
              "  </tbody>\n",
              "</table>\n",
              "</div>"
            ],
            "text/plain": [
              "       Sample   POS FILTER  ... countunique(change) countunique(FUNCLASS)  change\n",
              "0  ERR4859723    65      .  ...                   1                     1     C>T\n",
              "1  ERR4859723   240   PASS  ...                   1                     1     C>T\n",
              "2  ERR4859723   444   PASS  ...                   2                     1     T>C\n",
              "3  ERR4859723   528   PASS  ...                   3                     1     G>A\n",
              "4  ERR4859723  1986   PASS  ...                   1                     1     A>G\n",
              "\n",
              "[5 rows x 21 columns]"
            ]
          },
          "metadata": {
            "tags": []
          },
          "execution_count": 92
        }
      ]
    },
    {
      "cell_type": "code",
      "metadata": {
        "id": "VVB6EK8T8UjL"
      },
      "source": [
        "# Variants by site\n",
        "sites = pd.read_csv(datasets[dataset][1],sep='\\t')"
      ],
      "execution_count": 93,
      "outputs": []
    },
    {
      "cell_type": "code",
      "metadata": {
        "id": "hKVaFNyQZgGo",
        "outputId": "85762e60-57b9-4b32-ba55-e621e8b11b41",
        "colab": {
          "base_uri": "https://localhost:8080/"
        }
      },
      "source": [
        "len(sites)"
      ],
      "execution_count": 94,
      "outputs": [
        {
          "output_type": "execute_result",
          "data": {
            "text/plain": [
              "5760"
            ]
          },
          "metadata": {
            "tags": []
          },
          "execution_count": 94
        }
      ]
    },
    {
      "cell_type": "code",
      "metadata": {
        "id": "KDAwaqvnh5p1"
      },
      "source": [
        "sites = sites.replace({'FUNCLASS':funclass_translation})"
      ],
      "execution_count": 95,
      "outputs": []
    },
    {
      "cell_type": "code",
      "metadata": {
        "id": "ouHne1pPZMzA"
      },
      "source": [
        "# Changing coordinates to 0-based\n",
        "sites['POS'] = sites['POS']-1"
      ],
      "execution_count": 96,
      "outputs": []
    },
    {
      "cell_type": "code",
      "metadata": {
        "id": "vABtcLeoZRZN",
        "outputId": "f580a607-b45f-4ee3-dd93-1e1f2086903c",
        "colab": {
          "base_uri": "https://localhost:8080/"
        }
      },
      "source": [
        "check_against_genome(genome,sites,['POS','REF'],1)"
      ],
      "execution_count": 97,
      "outputs": [
        {
          "output_type": "stream",
          "text": [
            "Total = 5760, Wrong = 0, Correct = 5017\n"
          ],
          "name": "stdout"
        },
        {
          "output_type": "execute_result",
          "data": {
            "text/plain": [
              "({}, [])"
            ]
          },
          "metadata": {
            "tags": []
          },
          "execution_count": 97
        }
      ]
    },
    {
      "cell_type": "code",
      "metadata": {
        "id": "uvv9NNKgVYb6",
        "outputId": "acf9bf38-b373-48c4-bef6-3f68c9bbed9b",
        "colab": {
          "base_uri": "https://localhost:8080/",
          "height": 49
        }
      },
      "source": [
        "pysqldf('select EFFECT, count(*) from sites where FUNCLASS = \"NONE\" group by EFFECT')"
      ],
      "execution_count": 98,
      "outputs": [
        {
          "output_type": "execute_result",
          "data": {
            "text/html": [
              "<div>\n",
              "<style scoped>\n",
              "    .dataframe tbody tr th:only-of-type {\n",
              "        vertical-align: middle;\n",
              "    }\n",
              "\n",
              "    .dataframe tbody tr th {\n",
              "        vertical-align: top;\n",
              "    }\n",
              "\n",
              "    .dataframe thead th {\n",
              "        text-align: right;\n",
              "    }\n",
              "</style>\n",
              "<table border=\"1\" class=\"dataframe\">\n",
              "  <thead>\n",
              "    <tr style=\"text-align: right;\">\n",
              "      <th></th>\n",
              "      <th>EFFECT</th>\n",
              "      <th>count(*)</th>\n",
              "    </tr>\n",
              "  </thead>\n",
              "  <tbody>\n",
              "  </tbody>\n",
              "</table>\n",
              "</div>"
            ],
            "text/plain": [
              "Empty DataFrame\n",
              "Columns: [EFFECT, count(*)]\n",
              "Index: []"
            ]
          },
          "metadata": {
            "tags": []
          },
          "execution_count": 98
        }
      ]
    },
    {
      "cell_type": "code",
      "metadata": {
        "id": "YTRGaXuv8hA7",
        "outputId": "50662191-0658-493f-b5aa-17d333a6afb5",
        "colab": {
          "base_uri": "https://localhost:8080/",
          "height": 309
        }
      },
      "source": [
        "sites.head()"
      ],
      "execution_count": 99,
      "outputs": [
        {
          "output_type": "execute_result",
          "data": {
            "text/html": [
              "<div>\n",
              "<style scoped>\n",
              "    .dataframe tbody tr th:only-of-type {\n",
              "        vertical-align: middle;\n",
              "    }\n",
              "\n",
              "    .dataframe tbody tr th {\n",
              "        vertical-align: top;\n",
              "    }\n",
              "\n",
              "    .dataframe thead th {\n",
              "        text-align: right;\n",
              "    }\n",
              "</style>\n",
              "<table border=\"1\" class=\"dataframe\">\n",
              "  <thead>\n",
              "    <tr style=\"text-align: right;\">\n",
              "      <th></th>\n",
              "      <th>POS</th>\n",
              "      <th>REF</th>\n",
              "      <th>ALT</th>\n",
              "      <th>IMPACT</th>\n",
              "      <th>FUNCLASS</th>\n",
              "      <th>EFFECT</th>\n",
              "      <th>GENE</th>\n",
              "      <th>CODON</th>\n",
              "      <th>AA</th>\n",
              "      <th>TRID</th>\n",
              "      <th>countunique(Sample)</th>\n",
              "      <th>min(AF)</th>\n",
              "      <th>max(AF)</th>\n",
              "      <th>SAMPLES(above-thresholds)</th>\n",
              "      <th>SAMPLES(all)</th>\n",
              "      <th>AFs(all)</th>\n",
              "      <th>change</th>\n",
              "    </tr>\n",
              "  </thead>\n",
              "  <tbody>\n",
              "    <tr>\n",
              "      <th>0</th>\n",
              "      <td>20</td>\n",
              "      <td>C</td>\n",
              "      <td>T</td>\n",
              "      <td>.</td>\n",
              "      <td>Non-coding</td>\n",
              "      <td>.</td>\n",
              "      <td>.</td>\n",
              "      <td>.</td>\n",
              "      <td>.</td>\n",
              "      <td>.</td>\n",
              "      <td>1</td>\n",
              "      <td>0.925373</td>\n",
              "      <td>0.925373</td>\n",
              "      <td>ERR4861086</td>\n",
              "      <td>ERR4861086</td>\n",
              "      <td>0.925373</td>\n",
              "      <td>C&gt;T</td>\n",
              "    </tr>\n",
              "    <tr>\n",
              "      <th>1</th>\n",
              "      <td>60</td>\n",
              "      <td>G</td>\n",
              "      <td>T</td>\n",
              "      <td>.</td>\n",
              "      <td>Non-coding</td>\n",
              "      <td>.</td>\n",
              "      <td>.</td>\n",
              "      <td>.</td>\n",
              "      <td>.</td>\n",
              "      <td>.</td>\n",
              "      <td>8</td>\n",
              "      <td>0.002343</td>\n",
              "      <td>0.941985</td>\n",
              "      <td>ERR4860715,ERR4861521</td>\n",
              "      <td>ERR4860715,ERR4860560,ERR4859776,ERR4860474,ER...</td>\n",
              "      <td>0.941985,0.002343,0.006428,0.005267,0.003076,0...</td>\n",
              "      <td>G&gt;T</td>\n",
              "    </tr>\n",
              "    <tr>\n",
              "      <th>2</th>\n",
              "      <td>64</td>\n",
              "      <td>T</td>\n",
              "      <td>C</td>\n",
              "      <td>.</td>\n",
              "      <td>Non-coding</td>\n",
              "      <td>.</td>\n",
              "      <td>.</td>\n",
              "      <td>.</td>\n",
              "      <td>.</td>\n",
              "      <td>.</td>\n",
              "      <td>4</td>\n",
              "      <td>0.002558</td>\n",
              "      <td>0.397059</td>\n",
              "      <td>ERR4859832</td>\n",
              "      <td>ERR4860696,ERR4860829,ERR4859872,ERR4859832</td>\n",
              "      <td>0.012853,0.072581,0.002558,0.397059</td>\n",
              "      <td>T&gt;C</td>\n",
              "    </tr>\n",
              "    <tr>\n",
              "      <th>3</th>\n",
              "      <td>65</td>\n",
              "      <td>C</td>\n",
              "      <td>T</td>\n",
              "      <td>.</td>\n",
              "      <td>Non-coding</td>\n",
              "      <td>.</td>\n",
              "      <td>.</td>\n",
              "      <td>.</td>\n",
              "      <td>.</td>\n",
              "      <td>.</td>\n",
              "      <td>129</td>\n",
              "      <td>0.001100</td>\n",
              "      <td>1.000000</td>\n",
              "      <td>ERR4859723,ERR4859787,ERR4859839,ERR4859870,ER...</td>\n",
              "      <td>ERR4861238,ERR4861207,ERR4861136,ERR4861023,ER...</td>\n",
              "      <td>0.932306,0.914634,0.935213,0.942504,0.948718,0...</td>\n",
              "      <td>C&gt;T</td>\n",
              "    </tr>\n",
              "    <tr>\n",
              "      <th>4</th>\n",
              "      <td>66</td>\n",
              "      <td>T</td>\n",
              "      <td>C</td>\n",
              "      <td>.</td>\n",
              "      <td>Non-coding</td>\n",
              "      <td>.</td>\n",
              "      <td>.</td>\n",
              "      <td>.</td>\n",
              "      <td>.</td>\n",
              "      <td>.</td>\n",
              "      <td>1</td>\n",
              "      <td>0.109424</td>\n",
              "      <td>0.109424</td>\n",
              "      <td>ERR4859782</td>\n",
              "      <td>ERR4859782</td>\n",
              "      <td>0.109424</td>\n",
              "      <td>T&gt;C</td>\n",
              "    </tr>\n",
              "  </tbody>\n",
              "</table>\n",
              "</div>"
            ],
            "text/plain": [
              "   POS REF  ...                                           AFs(all) change\n",
              "0   20   C  ...                                           0.925373    C>T\n",
              "1   60   G  ...  0.941985,0.002343,0.006428,0.005267,0.003076,0...    G>T\n",
              "2   64   T  ...                0.012853,0.072581,0.002558,0.397059    T>C\n",
              "3   65   C  ...  0.932306,0.914634,0.935213,0.942504,0.948718,0...    C>T\n",
              "4   66   T  ...                                           0.109424    T>C\n",
              "\n",
              "[5 rows x 17 columns]"
            ]
          },
          "metadata": {
            "tags": []
          },
          "execution_count": 99
        }
      ]
    },
    {
      "cell_type": "code",
      "metadata": {
        "id": "9natI6Q3CodB"
      },
      "source": [
        "sel = pd.read_csv(sel_url,sep='\\t')"
      ],
      "execution_count": 100,
      "outputs": []
    },
    {
      "cell_type": "code",
      "metadata": {
        "id": "PRSFTAC3rYvV"
      },
      "source": [
        "# Add info about sites under sleection to the main variant table\n",
        "sites = pysqldf('select sites.*, sel.fel_p,sel.meme_p,sel.freq from sites left join sel on sites.POS >= sel.pos and sites.POS <= sel.pos+2 ')"
      ],
      "execution_count": 101,
      "outputs": []
    },
    {
      "cell_type": "code",
      "metadata": {
        "id": "Pk-2JTyhE-DX",
        "outputId": "bef52892-d73a-4292-917f-1aeb09d59301",
        "colab": {
          "base_uri": "https://localhost:8080/",
          "height": 309
        }
      },
      "source": [
        "sites.head()"
      ],
      "execution_count": 102,
      "outputs": [
        {
          "output_type": "execute_result",
          "data": {
            "text/html": [
              "<div>\n",
              "<style scoped>\n",
              "    .dataframe tbody tr th:only-of-type {\n",
              "        vertical-align: middle;\n",
              "    }\n",
              "\n",
              "    .dataframe tbody tr th {\n",
              "        vertical-align: top;\n",
              "    }\n",
              "\n",
              "    .dataframe thead th {\n",
              "        text-align: right;\n",
              "    }\n",
              "</style>\n",
              "<table border=\"1\" class=\"dataframe\">\n",
              "  <thead>\n",
              "    <tr style=\"text-align: right;\">\n",
              "      <th></th>\n",
              "      <th>POS</th>\n",
              "      <th>REF</th>\n",
              "      <th>ALT</th>\n",
              "      <th>IMPACT</th>\n",
              "      <th>FUNCLASS</th>\n",
              "      <th>EFFECT</th>\n",
              "      <th>GENE</th>\n",
              "      <th>CODON</th>\n",
              "      <th>AA</th>\n",
              "      <th>TRID</th>\n",
              "      <th>countunique(Sample)</th>\n",
              "      <th>min(AF)</th>\n",
              "      <th>max(AF)</th>\n",
              "      <th>SAMPLES(above-thresholds)</th>\n",
              "      <th>SAMPLES(all)</th>\n",
              "      <th>AFs(all)</th>\n",
              "      <th>change</th>\n",
              "      <th>fel_p</th>\n",
              "      <th>meme_p</th>\n",
              "      <th>freq</th>\n",
              "    </tr>\n",
              "  </thead>\n",
              "  <tbody>\n",
              "    <tr>\n",
              "      <th>0</th>\n",
              "      <td>20</td>\n",
              "      <td>C</td>\n",
              "      <td>T</td>\n",
              "      <td>.</td>\n",
              "      <td>Non-coding</td>\n",
              "      <td>.</td>\n",
              "      <td>.</td>\n",
              "      <td>.</td>\n",
              "      <td>.</td>\n",
              "      <td>.</td>\n",
              "      <td>1</td>\n",
              "      <td>0.925373</td>\n",
              "      <td>0.925373</td>\n",
              "      <td>ERR4861086</td>\n",
              "      <td>ERR4861086</td>\n",
              "      <td>0.925373</td>\n",
              "      <td>C&gt;T</td>\n",
              "      <td>NaN</td>\n",
              "      <td>NaN</td>\n",
              "      <td>NaN</td>\n",
              "    </tr>\n",
              "    <tr>\n",
              "      <th>1</th>\n",
              "      <td>60</td>\n",
              "      <td>G</td>\n",
              "      <td>T</td>\n",
              "      <td>.</td>\n",
              "      <td>Non-coding</td>\n",
              "      <td>.</td>\n",
              "      <td>.</td>\n",
              "      <td>.</td>\n",
              "      <td>.</td>\n",
              "      <td>.</td>\n",
              "      <td>8</td>\n",
              "      <td>0.002343</td>\n",
              "      <td>0.941985</td>\n",
              "      <td>ERR4860715,ERR4861521</td>\n",
              "      <td>ERR4860715,ERR4860560,ERR4859776,ERR4860474,ER...</td>\n",
              "      <td>0.941985,0.002343,0.006428,0.005267,0.003076,0...</td>\n",
              "      <td>G&gt;T</td>\n",
              "      <td>NaN</td>\n",
              "      <td>NaN</td>\n",
              "      <td>NaN</td>\n",
              "    </tr>\n",
              "    <tr>\n",
              "      <th>2</th>\n",
              "      <td>64</td>\n",
              "      <td>T</td>\n",
              "      <td>C</td>\n",
              "      <td>.</td>\n",
              "      <td>Non-coding</td>\n",
              "      <td>.</td>\n",
              "      <td>.</td>\n",
              "      <td>.</td>\n",
              "      <td>.</td>\n",
              "      <td>.</td>\n",
              "      <td>4</td>\n",
              "      <td>0.002558</td>\n",
              "      <td>0.397059</td>\n",
              "      <td>ERR4859832</td>\n",
              "      <td>ERR4860696,ERR4860829,ERR4859872,ERR4859832</td>\n",
              "      <td>0.012853,0.072581,0.002558,0.397059</td>\n",
              "      <td>T&gt;C</td>\n",
              "      <td>NaN</td>\n",
              "      <td>NaN</td>\n",
              "      <td>NaN</td>\n",
              "    </tr>\n",
              "    <tr>\n",
              "      <th>3</th>\n",
              "      <td>65</td>\n",
              "      <td>C</td>\n",
              "      <td>T</td>\n",
              "      <td>.</td>\n",
              "      <td>Non-coding</td>\n",
              "      <td>.</td>\n",
              "      <td>.</td>\n",
              "      <td>.</td>\n",
              "      <td>.</td>\n",
              "      <td>.</td>\n",
              "      <td>129</td>\n",
              "      <td>0.001100</td>\n",
              "      <td>1.000000</td>\n",
              "      <td>ERR4859723,ERR4859787,ERR4859839,ERR4859870,ER...</td>\n",
              "      <td>ERR4861238,ERR4861207,ERR4861136,ERR4861023,ER...</td>\n",
              "      <td>0.932306,0.914634,0.935213,0.942504,0.948718,0...</td>\n",
              "      <td>C&gt;T</td>\n",
              "      <td>NaN</td>\n",
              "      <td>NaN</td>\n",
              "      <td>NaN</td>\n",
              "    </tr>\n",
              "    <tr>\n",
              "      <th>4</th>\n",
              "      <td>66</td>\n",
              "      <td>T</td>\n",
              "      <td>C</td>\n",
              "      <td>.</td>\n",
              "      <td>Non-coding</td>\n",
              "      <td>.</td>\n",
              "      <td>.</td>\n",
              "      <td>.</td>\n",
              "      <td>.</td>\n",
              "      <td>.</td>\n",
              "      <td>1</td>\n",
              "      <td>0.109424</td>\n",
              "      <td>0.109424</td>\n",
              "      <td>ERR4859782</td>\n",
              "      <td>ERR4859782</td>\n",
              "      <td>0.109424</td>\n",
              "      <td>T&gt;C</td>\n",
              "      <td>NaN</td>\n",
              "      <td>NaN</td>\n",
              "      <td>NaN</td>\n",
              "    </tr>\n",
              "  </tbody>\n",
              "</table>\n",
              "</div>"
            ],
            "text/plain": [
              "   POS REF ALT IMPACT  ... change fel_p meme_p freq\n",
              "0   20   C   T      .  ...    C>T   NaN    NaN  NaN\n",
              "1   60   G   T      .  ...    G>T   NaN    NaN  NaN\n",
              "2   64   T   C      .  ...    T>C   NaN    NaN  NaN\n",
              "3   65   C   T      .  ...    C>T   NaN    NaN  NaN\n",
              "4   66   T   C      .  ...    T>C   NaN    NaN  NaN\n",
              "\n",
              "[5 rows x 20 columns]"
            ]
          },
          "metadata": {
            "tags": []
          },
          "execution_count": 102
        }
      ]
    },
    {
      "cell_type": "code",
      "metadata": {
        "id": "Ryxa0UJ_DDmY"
      },
      "source": [
        "voc = pd.read_csv(voc_url, sep='\\t',names=['voc_set','mut','position'],header=None)"
      ],
      "execution_count": 103,
      "outputs": []
    },
    {
      "cell_type": "code",
      "metadata": {
        "id": "Zm8NcuQPDI_z",
        "outputId": "51660887-7e83-4c7c-d38f-081094bb755b",
        "colab": {
          "base_uri": "https://localhost:8080/",
          "height": 204
        }
      },
      "source": [
        "voc.head()"
      ],
      "execution_count": 104,
      "outputs": [
        {
          "output_type": "execute_result",
          "data": {
            "text/html": [
              "<div>\n",
              "<style scoped>\n",
              "    .dataframe tbody tr th:only-of-type {\n",
              "        vertical-align: middle;\n",
              "    }\n",
              "\n",
              "    .dataframe tbody tr th {\n",
              "        vertical-align: top;\n",
              "    }\n",
              "\n",
              "    .dataframe thead th {\n",
              "        text-align: right;\n",
              "    }\n",
              "</style>\n",
              "<table border=\"1\" class=\"dataframe\">\n",
              "  <thead>\n",
              "    <tr style=\"text-align: right;\">\n",
              "      <th></th>\n",
              "      <th>voc_set</th>\n",
              "      <th>mut</th>\n",
              "      <th>position</th>\n",
              "    </tr>\n",
              "  </thead>\n",
              "  <tbody>\n",
              "    <tr>\n",
              "      <th>0</th>\n",
              "      <td>B1351</td>\n",
              "      <td>P71L</td>\n",
              "      <td>26454</td>\n",
              "    </tr>\n",
              "    <tr>\n",
              "      <th>1</th>\n",
              "      <td>B1351</td>\n",
              "      <td>T205I</td>\n",
              "      <td>28885</td>\n",
              "    </tr>\n",
              "    <tr>\n",
              "      <th>2</th>\n",
              "      <td>B1351</td>\n",
              "      <td>K1655N</td>\n",
              "      <td>5227</td>\n",
              "    </tr>\n",
              "    <tr>\n",
              "      <th>3</th>\n",
              "      <td>B1351</td>\n",
              "      <td>D80A</td>\n",
              "      <td>21799</td>\n",
              "    </tr>\n",
              "    <tr>\n",
              "      <th>4</th>\n",
              "      <td>B1351</td>\n",
              "      <td>D215G</td>\n",
              "      <td>22204</td>\n",
              "    </tr>\n",
              "  </tbody>\n",
              "</table>\n",
              "</div>"
            ],
            "text/plain": [
              "  voc_set     mut  position\n",
              "0   B1351    P71L     26454\n",
              "1   B1351   T205I     28885\n",
              "2   B1351  K1655N      5227\n",
              "3   B1351    D80A     21799\n",
              "4   B1351   D215G     22204"
            ]
          },
          "metadata": {
            "tags": []
          },
          "execution_count": 104
        }
      ]
    },
    {
      "cell_type": "code",
      "metadata": {
        "id": "N3mdSZ5UjjrI"
      },
      "source": [
        "for item in voc['voc_set'].unique():\n",
        "    sites = pysqldf('select sites.*, mut from sites left join voc on (POS >= position and POS < position+3) and voc_set = \"{0}\"'.format(item))\n",
        "    sites = sites.rename(columns={\"mut\": item})"
      ],
      "execution_count": 105,
      "outputs": []
    },
    {
      "cell_type": "code",
      "metadata": {
        "id": "VPOKr45lGHkP",
        "outputId": "0bbeedc8-dca0-41d5-a80e-b7581c9d21e0",
        "colab": {
          "base_uri": "https://localhost:8080/",
          "height": 964
        }
      },
      "source": [
        "pysqldf('select * from sites where P1 is not null')"
      ],
      "execution_count": 106,
      "outputs": [
        {
          "output_type": "execute_result",
          "data": {
            "text/html": [
              "<div>\n",
              "<style scoped>\n",
              "    .dataframe tbody tr th:only-of-type {\n",
              "        vertical-align: middle;\n",
              "    }\n",
              "\n",
              "    .dataframe tbody tr th {\n",
              "        vertical-align: top;\n",
              "    }\n",
              "\n",
              "    .dataframe thead th {\n",
              "        text-align: right;\n",
              "    }\n",
              "</style>\n",
              "<table border=\"1\" class=\"dataframe\">\n",
              "  <thead>\n",
              "    <tr style=\"text-align: right;\">\n",
              "      <th></th>\n",
              "      <th>POS</th>\n",
              "      <th>REF</th>\n",
              "      <th>ALT</th>\n",
              "      <th>IMPACT</th>\n",
              "      <th>FUNCLASS</th>\n",
              "      <th>EFFECT</th>\n",
              "      <th>GENE</th>\n",
              "      <th>CODON</th>\n",
              "      <th>AA</th>\n",
              "      <th>TRID</th>\n",
              "      <th>countunique(Sample)</th>\n",
              "      <th>min(AF)</th>\n",
              "      <th>max(AF)</th>\n",
              "      <th>SAMPLES(above-thresholds)</th>\n",
              "      <th>SAMPLES(all)</th>\n",
              "      <th>AFs(all)</th>\n",
              "      <th>change</th>\n",
              "      <th>fel_p</th>\n",
              "      <th>meme_p</th>\n",
              "      <th>freq</th>\n",
              "      <th>B1351</th>\n",
              "      <th>P1</th>\n",
              "      <th>B117</th>\n",
              "      <th>BLOOM</th>\n",
              "      <th>A321</th>\n",
              "    </tr>\n",
              "  </thead>\n",
              "  <tbody>\n",
              "    <tr>\n",
              "      <th>0</th>\n",
              "      <td>3827</td>\n",
              "      <td>C</td>\n",
              "      <td>T</td>\n",
              "      <td>MODERATE</td>\n",
              "      <td>Non-synonymous</td>\n",
              "      <td>NON_SYNONYMOUS_CODING</td>\n",
              "      <td>ORF1ab</td>\n",
              "      <td>tCa/tTa</td>\n",
              "      <td>S370L</td>\n",
              "      <td>nsp3</td>\n",
              "      <td>11</td>\n",
              "      <td>0.001676</td>\n",
              "      <td>0.959329</td>\n",
              "      <td>ERR4861281</td>\n",
              "      <td>ERR4860669,ERR4860428,ERR4860434,ERR4860349,ER...</td>\n",
              "      <td>0.001729,0.002387,0.010461,0.00748,0.001715,0....</td>\n",
              "      <td>C&gt;T</td>\n",
              "      <td>NaN</td>\n",
              "      <td>NaN</td>\n",
              "      <td>NaN</td>\n",
              "      <td>None</td>\n",
              "      <td>S1188L</td>\n",
              "      <td>None</td>\n",
              "      <td>None</td>\n",
              "      <td>None</td>\n",
              "    </tr>\n",
              "    <tr>\n",
              "      <th>1</th>\n",
              "      <td>11288</td>\n",
              "      <td>C</td>\n",
              "      <td>T</td>\n",
              "      <td>MODERATE</td>\n",
              "      <td>Non-synonymous</td>\n",
              "      <td>NON_SYNONYMOUS_CODING</td>\n",
              "      <td>ORF1ab</td>\n",
              "      <td>tCt/tTt</td>\n",
              "      <td>S106F</td>\n",
              "      <td>nsp6</td>\n",
              "      <td>8</td>\n",
              "      <td>0.001122</td>\n",
              "      <td>0.089242</td>\n",
              "      <td>ERR4860024</td>\n",
              "      <td>ERR4861208,ERR4860881,ERR4859792,ERR4860094,ER...</td>\n",
              "      <td>0.001239,0.001303,0.00131,0.00199,0.089242,0.0...</td>\n",
              "      <td>C&gt;T</td>\n",
              "      <td>2.931933e-03</td>\n",
              "      <td>5.222744e-03</td>\n",
              "      <td>0.000492</td>\n",
              "      <td>None</td>\n",
              "      <td>del</td>\n",
              "      <td>del9</td>\n",
              "      <td>None</td>\n",
              "      <td>None</td>\n",
              "    </tr>\n",
              "    <tr>\n",
              "      <th>2</th>\n",
              "      <td>11289</td>\n",
              "      <td>T</td>\n",
              "      <td>C</td>\n",
              "      <td>LOW</td>\n",
              "      <td>Synonymous</td>\n",
              "      <td>SYNONYMOUS_CODING</td>\n",
              "      <td>ORF1ab</td>\n",
              "      <td>tcT/tcC</td>\n",
              "      <td>S106</td>\n",
              "      <td>nsp6</td>\n",
              "      <td>5</td>\n",
              "      <td>0.001237</td>\n",
              "      <td>0.953882</td>\n",
              "      <td>ERR4860266</td>\n",
              "      <td>ERR4860266,ERR4861257,ERR4859885,ERR4860791,ER...</td>\n",
              "      <td>0.953882,0.001237,0.002534,0.001995,0.003017</td>\n",
              "      <td>T&gt;C</td>\n",
              "      <td>2.931933e-03</td>\n",
              "      <td>5.222744e-03</td>\n",
              "      <td>0.000492</td>\n",
              "      <td>None</td>\n",
              "      <td>del</td>\n",
              "      <td>del9</td>\n",
              "      <td>None</td>\n",
              "      <td>None</td>\n",
              "    </tr>\n",
              "    <tr>\n",
              "      <th>3</th>\n",
              "      <td>11289</td>\n",
              "      <td>TG</td>\n",
              "      <td>T</td>\n",
              "      <td>HIGH</td>\n",
              "      <td>Indel</td>\n",
              "      <td>FRAME_SHIFT</td>\n",
              "      <td>ORF1ab</td>\n",
              "      <td>ggt/</td>\n",
              "      <td>G107</td>\n",
              "      <td>nsp6</td>\n",
              "      <td>5</td>\n",
              "      <td>0.000536</td>\n",
              "      <td>0.076799</td>\n",
              "      <td>ERR4860605</td>\n",
              "      <td>ERR4860605,ERR4860865,ERR4861473,ERR4861307,ER...</td>\n",
              "      <td>0.076799,5.36E-4,0.001254,0.002835,6.47E-4</td>\n",
              "      <td>TG&gt;T</td>\n",
              "      <td>2.931933e-03</td>\n",
              "      <td>5.222744e-03</td>\n",
              "      <td>0.000492</td>\n",
              "      <td>None</td>\n",
              "      <td>del</td>\n",
              "      <td>del9</td>\n",
              "      <td>None</td>\n",
              "      <td>None</td>\n",
              "    </tr>\n",
              "    <tr>\n",
              "      <th>4</th>\n",
              "      <td>21613</td>\n",
              "      <td>C</td>\n",
              "      <td>T</td>\n",
              "      <td>MODERATE</td>\n",
              "      <td>Non-synonymous</td>\n",
              "      <td>NON_SYNONYMOUS_CODING</td>\n",
              "      <td>S</td>\n",
              "      <td>Ctt/Ttt</td>\n",
              "      <td>L18F</td>\n",
              "      <td>S</td>\n",
              "      <td>745</td>\n",
              "      <td>0.000853</td>\n",
              "      <td>1.000000</td>\n",
              "      <td>ERR4859724,ERR4859726,ERR4859729,ERR4859733,ER...</td>\n",
              "      <td>ERR4861229,ERR4861212,ERR4861188,ERR4861181,ER...</td>\n",
              "      <td>0.870538,0.853163,0.864213,0.854697,0.879007,0...</td>\n",
              "      <td>C&gt;T</td>\n",
              "      <td>1.859624e-13</td>\n",
              "      <td>6.861178e-13</td>\n",
              "      <td>0.106843</td>\n",
              "      <td>None</td>\n",
              "      <td>L18F</td>\n",
              "      <td>None</td>\n",
              "      <td>None</td>\n",
              "      <td>None</td>\n",
              "    </tr>\n",
              "    <tr>\n",
              "      <th>5</th>\n",
              "      <td>21620</td>\n",
              "      <td>C</td>\n",
              "      <td>T</td>\n",
              "      <td>MODERATE</td>\n",
              "      <td>Non-synonymous</td>\n",
              "      <td>NON_SYNONYMOUS_CODING</td>\n",
              "      <td>S</td>\n",
              "      <td>aCc/aTc</td>\n",
              "      <td>T20I</td>\n",
              "      <td>S</td>\n",
              "      <td>16</td>\n",
              "      <td>0.000918</td>\n",
              "      <td>0.901559</td>\n",
              "      <td>ERR4859776,ERR4860570,ERR4860886</td>\n",
              "      <td>ERR4861023,ERR4861081,ERR4860570,ERR4860886,ER...</td>\n",
              "      <td>0.001791,0.001719,0.296592,0.301045,0.901559,0...</td>\n",
              "      <td>C&gt;T</td>\n",
              "      <td>6.471967e-03</td>\n",
              "      <td>6.666667e-01</td>\n",
              "      <td>0.002368</td>\n",
              "      <td>None</td>\n",
              "      <td>T20N</td>\n",
              "      <td>None</td>\n",
              "      <td>None</td>\n",
              "      <td>None</td>\n",
              "    </tr>\n",
              "    <tr>\n",
              "      <th>6</th>\n",
              "      <td>21621</td>\n",
              "      <td>C</td>\n",
              "      <td>A</td>\n",
              "      <td>LOW</td>\n",
              "      <td>Synonymous</td>\n",
              "      <td>SYNONYMOUS_CODING</td>\n",
              "      <td>S</td>\n",
              "      <td>acC/acA</td>\n",
              "      <td>T20</td>\n",
              "      <td>S</td>\n",
              "      <td>9</td>\n",
              "      <td>0.000924</td>\n",
              "      <td>0.932692</td>\n",
              "      <td>ERR4860261,ERR4860269,ERR4860409,ERR4860495,ER...</td>\n",
              "      <td>ERR4860828,ERR4860495,ERR4860409,ERR4860269,ER...</td>\n",
              "      <td>0.003421,0.932692,0.854339,0.923311,0.910961,0...</td>\n",
              "      <td>C&gt;A</td>\n",
              "      <td>6.471967e-03</td>\n",
              "      <td>6.666667e-01</td>\n",
              "      <td>0.002368</td>\n",
              "      <td>None</td>\n",
              "      <td>T20N</td>\n",
              "      <td>None</td>\n",
              "      <td>None</td>\n",
              "      <td>None</td>\n",
              "    </tr>\n",
              "    <tr>\n",
              "      <th>7</th>\n",
              "      <td>21621</td>\n",
              "      <td>C</td>\n",
              "      <td>T</td>\n",
              "      <td>LOW</td>\n",
              "      <td>Synonymous</td>\n",
              "      <td>SYNONYMOUS_CODING</td>\n",
              "      <td>S</td>\n",
              "      <td>acC/acT</td>\n",
              "      <td>T20</td>\n",
              "      <td>S</td>\n",
              "      <td>19</td>\n",
              "      <td>0.000969</td>\n",
              "      <td>0.958603</td>\n",
              "      <td>ERR4860169,ERR4861536</td>\n",
              "      <td>ERR4860851,ERR4859877,ERR4859767,ERR4859752,ER...</td>\n",
              "      <td>0.020011,0.004739,0.005251,0.00225,0.005557,0....</td>\n",
              "      <td>C&gt;T</td>\n",
              "      <td>6.471967e-03</td>\n",
              "      <td>6.666667e-01</td>\n",
              "      <td>0.002368</td>\n",
              "      <td>None</td>\n",
              "      <td>T20N</td>\n",
              "      <td>None</td>\n",
              "      <td>None</td>\n",
              "      <td>None</td>\n",
              "    </tr>\n",
              "    <tr>\n",
              "      <th>8</th>\n",
              "      <td>21637</td>\n",
              "      <td>C</td>\n",
              "      <td>T</td>\n",
              "      <td>MODERATE</td>\n",
              "      <td>Non-synonymous</td>\n",
              "      <td>NON_SYNONYMOUS_CODING</td>\n",
              "      <td>S</td>\n",
              "      <td>Cct/Tct</td>\n",
              "      <td>P26S</td>\n",
              "      <td>S</td>\n",
              "      <td>39</td>\n",
              "      <td>0.001191</td>\n",
              "      <td>0.929306</td>\n",
              "      <td>ERR4859938,ERR4859970,ERR4860050,ERR4860090,ER...</td>\n",
              "      <td>ERR4861106,ERR4860572,ERR4860884,ERR4859778,ER...</td>\n",
              "      <td>0.895203,0.001809,0.001191,0.001526,0.929306,0...</td>\n",
              "      <td>C&gt;T</td>\n",
              "      <td>5.906763e-06</td>\n",
              "      <td>1.451934e-05</td>\n",
              "      <td>0.002831</td>\n",
              "      <td>None</td>\n",
              "      <td>P26S</td>\n",
              "      <td>None</td>\n",
              "      <td>None</td>\n",
              "      <td>None</td>\n",
              "    </tr>\n",
              "    <tr>\n",
              "      <th>9</th>\n",
              "      <td>21973</td>\n",
              "      <td>G</td>\n",
              "      <td>A</td>\n",
              "      <td>MODERATE</td>\n",
              "      <td>Non-synonymous</td>\n",
              "      <td>NON_SYNONYMOUS_CODING</td>\n",
              "      <td>S</td>\n",
              "      <td>Gat/Aat</td>\n",
              "      <td>D138N</td>\n",
              "      <td>S</td>\n",
              "      <td>3</td>\n",
              "      <td>0.001395</td>\n",
              "      <td>0.060357</td>\n",
              "      <td>ERR4860316</td>\n",
              "      <td>ERR4861298,ERR4860316,ERR4859980</td>\n",
              "      <td>0.001395,0.060357,0.003265</td>\n",
              "      <td>G&gt;A</td>\n",
              "      <td>4.013989e-06</td>\n",
              "      <td>9.851843e-06</td>\n",
              "      <td>0.002613</td>\n",
              "      <td>None</td>\n",
              "      <td>D138Y</td>\n",
              "      <td>None</td>\n",
              "      <td>None</td>\n",
              "      <td>None</td>\n",
              "    </tr>\n",
              "    <tr>\n",
              "      <th>10</th>\n",
              "      <td>21973</td>\n",
              "      <td>G</td>\n",
              "      <td>T</td>\n",
              "      <td>MODERATE</td>\n",
              "      <td>Non-synonymous</td>\n",
              "      <td>NON_SYNONYMOUS_CODING</td>\n",
              "      <td>S</td>\n",
              "      <td>Gat/Tat</td>\n",
              "      <td>D138Y</td>\n",
              "      <td>S</td>\n",
              "      <td>4</td>\n",
              "      <td>0.001687</td>\n",
              "      <td>0.945161</td>\n",
              "      <td>ERR4859997</td>\n",
              "      <td>ERR4860638,ERR4860203,ERR4859997,ERR4860014</td>\n",
              "      <td>0.001687,0.005022,0.945161,0.00253</td>\n",
              "      <td>G&gt;T</td>\n",
              "      <td>4.013989e-06</td>\n",
              "      <td>9.851843e-06</td>\n",
              "      <td>0.002613</td>\n",
              "      <td>None</td>\n",
              "      <td>D138Y</td>\n",
              "      <td>None</td>\n",
              "      <td>None</td>\n",
              "      <td>None</td>\n",
              "    </tr>\n",
              "    <tr>\n",
              "      <th>11</th>\n",
              "      <td>22130</td>\n",
              "      <td>G</td>\n",
              "      <td>T</td>\n",
              "      <td>MODERATE</td>\n",
              "      <td>Non-synonymous</td>\n",
              "      <td>NON_SYNONYMOUS_CODING</td>\n",
              "      <td>S</td>\n",
              "      <td>aGg/aTg</td>\n",
              "      <td>R190M</td>\n",
              "      <td>S</td>\n",
              "      <td>15</td>\n",
              "      <td>0.002909</td>\n",
              "      <td>0.895204</td>\n",
              "      <td>ERR4860031,ERR4860071,ERR4860118,ERR4860364,ER...</td>\n",
              "      <td>ERR4860497,ERR4860459,ERR4860461,ERR4860412,ER...</td>\n",
              "      <td>0.004844,0.895204,0.866741,0.834456,0.827143,0...</td>\n",
              "      <td>G&gt;T</td>\n",
              "      <td>NaN</td>\n",
              "      <td>NaN</td>\n",
              "      <td>NaN</td>\n",
              "      <td>None</td>\n",
              "      <td>R190S</td>\n",
              "      <td>None</td>\n",
              "      <td>None</td>\n",
              "      <td>None</td>\n",
              "    </tr>\n",
              "    <tr>\n",
              "      <th>12</th>\n",
              "      <td>22131</td>\n",
              "      <td>G</td>\n",
              "      <td>A</td>\n",
              "      <td>LOW</td>\n",
              "      <td>Synonymous</td>\n",
              "      <td>SYNONYMOUS_CODING</td>\n",
              "      <td>S</td>\n",
              "      <td>agG/agA</td>\n",
              "      <td>R190</td>\n",
              "      <td>S</td>\n",
              "      <td>3</td>\n",
              "      <td>0.002072</td>\n",
              "      <td>0.140948</td>\n",
              "      <td>ERR4861452</td>\n",
              "      <td>ERR4861452,ERR4860966,ERR4861191</td>\n",
              "      <td>0.140948,0.004085,0.002072</td>\n",
              "      <td>G&gt;A</td>\n",
              "      <td>NaN</td>\n",
              "      <td>NaN</td>\n",
              "      <td>NaN</td>\n",
              "      <td>None</td>\n",
              "      <td>R190S</td>\n",
              "      <td>None</td>\n",
              "      <td>None</td>\n",
              "      <td>None</td>\n",
              "    </tr>\n",
              "    <tr>\n",
              "      <th>13</th>\n",
              "      <td>23011</td>\n",
              "      <td>G</td>\n",
              "      <td>C</td>\n",
              "      <td>MODERATE</td>\n",
              "      <td>Non-synonymous</td>\n",
              "      <td>NON_SYNONYMOUS_CODING</td>\n",
              "      <td>S</td>\n",
              "      <td>Gaa/Caa</td>\n",
              "      <td>E484Q</td>\n",
              "      <td>S</td>\n",
              "      <td>6</td>\n",
              "      <td>0.001248</td>\n",
              "      <td>0.879462</td>\n",
              "      <td>ERR4861084</td>\n",
              "      <td>ERR4861020,ERR4860638,ERR4860531,ERR4859885,ER...</td>\n",
              "      <td>0.001993,0.001248,0.003781,0.002537,0.001672,0...</td>\n",
              "      <td>G&gt;C</td>\n",
              "      <td>1.405518e-03</td>\n",
              "      <td>2.641306e-03</td>\n",
              "      <td>0.000999</td>\n",
              "      <td>E484K</td>\n",
              "      <td>E484K</td>\n",
              "      <td>None</td>\n",
              "      <td>E484</td>\n",
              "      <td>None</td>\n",
              "    </tr>\n",
              "    <tr>\n",
              "      <th>14</th>\n",
              "      <td>23062</td>\n",
              "      <td>A</td>\n",
              "      <td>T</td>\n",
              "      <td>MODERATE</td>\n",
              "      <td>Non-synonymous</td>\n",
              "      <td>NON_SYNONYMOUS_CODING</td>\n",
              "      <td>S</td>\n",
              "      <td>Aat/Tat</td>\n",
              "      <td>N501Y</td>\n",
              "      <td>S</td>\n",
              "      <td>37</td>\n",
              "      <td>0.001203</td>\n",
              "      <td>0.919716</td>\n",
              "      <td>ERR4859776,ERR4859864,ERR4859905,ERR4859928,ER...</td>\n",
              "      <td>ERR4860713,ERR4859776,ERR4859727,ERR4859739,ER...</td>\n",
              "      <td>0.871102,0.886669,0.001261,0.001203,0.897142,0...</td>\n",
              "      <td>A&gt;T</td>\n",
              "      <td>4.769435e-06</td>\n",
              "      <td>2.182911e-06</td>\n",
              "      <td>0.049682</td>\n",
              "      <td>N501Y</td>\n",
              "      <td>N501Y</td>\n",
              "      <td>N501Y</td>\n",
              "      <td>None</td>\n",
              "      <td>None</td>\n",
              "    </tr>\n",
              "    <tr>\n",
              "      <th>15</th>\n",
              "      <td>23524</td>\n",
              "      <td>C</td>\n",
              "      <td>T</td>\n",
              "      <td>MODERATE</td>\n",
              "      <td>Non-synonymous</td>\n",
              "      <td>NON_SYNONYMOUS_CODING</td>\n",
              "      <td>S</td>\n",
              "      <td>Cat/Tat</td>\n",
              "      <td>H655Y</td>\n",
              "      <td>S</td>\n",
              "      <td>37</td>\n",
              "      <td>0.001088</td>\n",
              "      <td>0.965132</td>\n",
              "      <td>ERR4859827,ERR4859882,ERR4859896,ERR4859927,ER...</td>\n",
              "      <td>ERR4860575,ERR4860800,ERR4860752,ERR4860745,ER...</td>\n",
              "      <td>0.001776,0.949662,0.001498,0.946319,0.950944,0...</td>\n",
              "      <td>C&gt;T</td>\n",
              "      <td>1.079021e-06</td>\n",
              "      <td>2.810272e-06</td>\n",
              "      <td>0.003725</td>\n",
              "      <td>None</td>\n",
              "      <td>H655Y</td>\n",
              "      <td>None</td>\n",
              "      <td>None</td>\n",
              "      <td>None</td>\n",
              "    </tr>\n",
              "    <tr>\n",
              "      <th>16</th>\n",
              "      <td>23526</td>\n",
              "      <td>T</td>\n",
              "      <td>C</td>\n",
              "      <td>LOW</td>\n",
              "      <td>Synonymous</td>\n",
              "      <td>SYNONYMOUS_CODING</td>\n",
              "      <td>S</td>\n",
              "      <td>caT/caC</td>\n",
              "      <td>H655</td>\n",
              "      <td>S</td>\n",
              "      <td>5</td>\n",
              "      <td>0.001569</td>\n",
              "      <td>0.993058</td>\n",
              "      <td>ERR4859961,ERR4860127</td>\n",
              "      <td>ERR4860321,ERR4859961,ERR4859978,ERR4860127,ER...</td>\n",
              "      <td>0.001569,0.993058,0.001886,0.992922,0.001693</td>\n",
              "      <td>T&gt;C</td>\n",
              "      <td>1.079021e-06</td>\n",
              "      <td>2.810272e-06</td>\n",
              "      <td>0.003725</td>\n",
              "      <td>None</td>\n",
              "      <td>H655Y</td>\n",
              "      <td>None</td>\n",
              "      <td>None</td>\n",
              "      <td>None</td>\n",
              "    </tr>\n",
              "    <tr>\n",
              "      <th>17</th>\n",
              "      <td>24642</td>\n",
              "      <td>T</td>\n",
              "      <td>A</td>\n",
              "      <td>LOW</td>\n",
              "      <td>Synonymous</td>\n",
              "      <td>SYNONYMOUS_CODING</td>\n",
              "      <td>S</td>\n",
              "      <td>acT/acA</td>\n",
              "      <td>T1027</td>\n",
              "      <td>S</td>\n",
              "      <td>2</td>\n",
              "      <td>0.005407</td>\n",
              "      <td>0.901090</td>\n",
              "      <td>ERR4860717</td>\n",
              "      <td>ERR4860717,ERR4861386</td>\n",
              "      <td>0.90109,0.005407</td>\n",
              "      <td>T&gt;A</td>\n",
              "      <td>1.031126e-02</td>\n",
              "      <td>1.672146e-02</td>\n",
              "      <td>0.000303</td>\n",
              "      <td>None</td>\n",
              "      <td>T1027I</td>\n",
              "      <td>None</td>\n",
              "      <td>None</td>\n",
              "      <td>None</td>\n",
              "    </tr>\n",
              "    <tr>\n",
              "      <th>18</th>\n",
              "      <td>28168</td>\n",
              "      <td>A</td>\n",
              "      <td>G</td>\n",
              "      <td>LOW</td>\n",
              "      <td>Synonymous</td>\n",
              "      <td>SYNONYMOUS_CODING</td>\n",
              "      <td>ORF8</td>\n",
              "      <td>gaA/gaG</td>\n",
              "      <td>E92</td>\n",
              "      <td>orf8</td>\n",
              "      <td>54</td>\n",
              "      <td>0.888889</td>\n",
              "      <td>0.950382</td>\n",
              "      <td>ERR4859731,ERR4859741,ERR4859742,ERR4859769,ER...</td>\n",
              "      <td>ERR4860922,ERR4860800,ERR4860745,ERR4860662,ER...</td>\n",
              "      <td>0.915002,0.917287,0.921939,0.922613,0.922678,0...</td>\n",
              "      <td>A&gt;G</td>\n",
              "      <td>1.955567e-05</td>\n",
              "      <td>6.666667e-01</td>\n",
              "      <td>0.014725</td>\n",
              "      <td>None</td>\n",
              "      <td>E92K</td>\n",
              "      <td>None</td>\n",
              "      <td>None</td>\n",
              "      <td>None</td>\n",
              "    </tr>\n",
              "  </tbody>\n",
              "</table>\n",
              "</div>"
            ],
            "text/plain": [
              "      POS REF ALT    IMPACT        FUNCLASS  ...  B1351      P1   B117 BLOOM  A321\n",
              "0    3827   C   T  MODERATE  Non-synonymous  ...   None  S1188L   None  None  None\n",
              "1   11288   C   T  MODERATE  Non-synonymous  ...   None     del   del9  None  None\n",
              "2   11289   T   C       LOW      Synonymous  ...   None     del   del9  None  None\n",
              "3   11289  TG   T      HIGH           Indel  ...   None     del   del9  None  None\n",
              "4   21613   C   T  MODERATE  Non-synonymous  ...   None    L18F   None  None  None\n",
              "5   21620   C   T  MODERATE  Non-synonymous  ...   None    T20N   None  None  None\n",
              "6   21621   C   A       LOW      Synonymous  ...   None    T20N   None  None  None\n",
              "7   21621   C   T       LOW      Synonymous  ...   None    T20N   None  None  None\n",
              "8   21637   C   T  MODERATE  Non-synonymous  ...   None    P26S   None  None  None\n",
              "9   21973   G   A  MODERATE  Non-synonymous  ...   None   D138Y   None  None  None\n",
              "10  21973   G   T  MODERATE  Non-synonymous  ...   None   D138Y   None  None  None\n",
              "11  22130   G   T  MODERATE  Non-synonymous  ...   None   R190S   None  None  None\n",
              "12  22131   G   A       LOW      Synonymous  ...   None   R190S   None  None  None\n",
              "13  23011   G   C  MODERATE  Non-synonymous  ...  E484K   E484K   None  E484  None\n",
              "14  23062   A   T  MODERATE  Non-synonymous  ...  N501Y   N501Y  N501Y  None  None\n",
              "15  23524   C   T  MODERATE  Non-synonymous  ...   None   H655Y   None  None  None\n",
              "16  23526   T   C       LOW      Synonymous  ...   None   H655Y   None  None  None\n",
              "17  24642   T   A       LOW      Synonymous  ...   None  T1027I   None  None  None\n",
              "18  28168   A   G       LOW      Synonymous  ...   None    E92K   None  None  None\n",
              "\n",
              "[19 rows x 25 columns]"
            ]
          },
          "metadata": {
            "tags": []
          },
          "execution_count": 106
        }
      ]
    },
    {
      "cell_type": "code",
      "metadata": {
        "id": "2iaIG7FNl0Qj",
        "outputId": "dffd4ddb-3581-4923-a97b-5c4125a695d8",
        "colab": {
          "base_uri": "https://localhost:8080/"
        }
      },
      "source": [
        "len(sites)"
      ],
      "execution_count": 107,
      "outputs": [
        {
          "output_type": "execute_result",
          "data": {
            "text/plain": [
              "5760"
            ]
          },
          "metadata": {
            "tags": []
          },
          "execution_count": 107
        }
      ]
    },
    {
      "cell_type": "code",
      "metadata": {
        "id": "GSNhtjmmE7nQ"
      },
      "source": [
        "# Assumes df has columns labelled 'ALT' and 'REF'\n",
        "def chng_type(df):\n",
        "    df.loc[df['REF'].str.len() == df['ALT'].str.len(), 'type'] = 'SNP'\n",
        "    df.loc[df['REF'].str.len() != df['ALT'].str.len(), 'type'] = 'Indel'"
      ],
      "execution_count": 108,
      "outputs": []
    },
    {
      "cell_type": "code",
      "metadata": {
        "id": "6fVfJJ1mT6LV"
      },
      "source": [
        "chng_type(var)\n",
        "chng_type(sites)"
      ],
      "execution_count": 109,
      "outputs": []
    },
    {
      "cell_type": "code",
      "metadata": {
        "id": "Sj58R8wbWcu_",
        "outputId": "4a49631a-7f58-4ec0-e88a-90bd3031aaba",
        "colab": {
          "base_uri": "https://localhost:8080/",
          "height": 49
        }
      },
      "source": [
        "pysqldf('select EFFECT, FUNCLASS,type, count(*) from sites where FUNCLASS = \"NONE\"  group by EFFECT, type ')"
      ],
      "execution_count": 110,
      "outputs": [
        {
          "output_type": "execute_result",
          "data": {
            "text/html": [
              "<div>\n",
              "<style scoped>\n",
              "    .dataframe tbody tr th:only-of-type {\n",
              "        vertical-align: middle;\n",
              "    }\n",
              "\n",
              "    .dataframe tbody tr th {\n",
              "        vertical-align: top;\n",
              "    }\n",
              "\n",
              "    .dataframe thead th {\n",
              "        text-align: right;\n",
              "    }\n",
              "</style>\n",
              "<table border=\"1\" class=\"dataframe\">\n",
              "  <thead>\n",
              "    <tr style=\"text-align: right;\">\n",
              "      <th></th>\n",
              "      <th>EFFECT</th>\n",
              "      <th>FUNCLASS</th>\n",
              "      <th>type</th>\n",
              "      <th>count(*)</th>\n",
              "    </tr>\n",
              "  </thead>\n",
              "  <tbody>\n",
              "  </tbody>\n",
              "</table>\n",
              "</div>"
            ],
            "text/plain": [
              "Empty DataFrame\n",
              "Columns: [EFFECT, FUNCLASS, type, count(*)]\n",
              "Index: []"
            ]
          },
          "metadata": {
            "tags": []
          },
          "execution_count": 110
        }
      ]
    },
    {
      "cell_type": "code",
      "metadata": {
        "id": "lGAxXptgW8fm",
        "outputId": "e2817fa3-89d0-4a1b-f6da-a31c4fe37193",
        "colab": {
          "base_uri": "https://localhost:8080/",
          "height": 49
        }
      },
      "source": [
        "pysqldf('select EFFECT, FUNCLASS,type, count(*) from sites where FUNCLASS = \"NONE\"  group by EFFECT')"
      ],
      "execution_count": 111,
      "outputs": [
        {
          "output_type": "execute_result",
          "data": {
            "text/html": [
              "<div>\n",
              "<style scoped>\n",
              "    .dataframe tbody tr th:only-of-type {\n",
              "        vertical-align: middle;\n",
              "    }\n",
              "\n",
              "    .dataframe tbody tr th {\n",
              "        vertical-align: top;\n",
              "    }\n",
              "\n",
              "    .dataframe thead th {\n",
              "        text-align: right;\n",
              "    }\n",
              "</style>\n",
              "<table border=\"1\" class=\"dataframe\">\n",
              "  <thead>\n",
              "    <tr style=\"text-align: right;\">\n",
              "      <th></th>\n",
              "      <th>EFFECT</th>\n",
              "      <th>FUNCLASS</th>\n",
              "      <th>type</th>\n",
              "      <th>count(*)</th>\n",
              "    </tr>\n",
              "  </thead>\n",
              "  <tbody>\n",
              "  </tbody>\n",
              "</table>\n",
              "</div>"
            ],
            "text/plain": [
              "Empty DataFrame\n",
              "Columns: [EFFECT, FUNCLASS, type, count(*)]\n",
              "Index: []"
            ]
          },
          "metadata": {
            "tags": []
          },
          "execution_count": 111
        }
      ]
    },
    {
      "cell_type": "code",
      "metadata": {
        "id": "zRE1LWh9SscH"
      },
      "source": [
        "var.to_csv('{}_by_sample_processed.tsv'.format(dataset),sep='\\t',index=False)\n",
        "sites.to_csv('{}_by_var_processed.tsv'.format(dataset),sep='\\t',index=False)\n",
        "!gzip *.tsv"
      ],
      "execution_count": 112,
      "outputs": []
    },
    {
      "cell_type": "code",
      "metadata": {
        "id": "c190vsPAS86y",
        "outputId": "9ed03f65-0f77-429e-9e02-1f8a750a5a1f",
        "colab": {
          "base_uri": "https://localhost:8080/"
        }
      },
      "source": [
        "!ls"
      ],
      "execution_count": 113,
      "outputs": [
        {
          "output_type": "stream",
          "text": [
            "bos_by_sample_processed.tsv.gz\t     cog-pre_by_sample_processed.tsv.gz\n",
            "bos_by_var_processed.tsv.gz\t     cog-pre_by_var_processed.tsv.gz\n",
            "cog-post_by_sample_processed.tsv.gz  GCF_009858895.2_ASM985889v3_genomic.gbff\n",
            "cog-post_by_var_processed.tsv.gz     sample_data\n"
          ],
          "name": "stdout"
        }
      ]
    },
    {
      "cell_type": "code",
      "metadata": {
        "id": "kKdGhvSN91tZ",
        "outputId": "b50170f9-e079-4edb-fb2a-c8413ad9041f",
        "colab": {
          "base_uri": "https://localhost:8080/",
          "height": 17
        }
      },
      "source": [
        "from google.colab import files\n",
        "files.download('{}_by_sample_processed.tsv.gz'.format(dataset))\n",
        "files.download('{}_by_var_processed.tsv.gz'.format(dataset))"
      ],
      "execution_count": 114,
      "outputs": [
        {
          "output_type": "display_data",
          "data": {
            "application/javascript": [
              "\n",
              "    async function download(id, filename, size) {\n",
              "      if (!google.colab.kernel.accessAllowed) {\n",
              "        return;\n",
              "      }\n",
              "      const div = document.createElement('div');\n",
              "      const label = document.createElement('label');\n",
              "      label.textContent = `Downloading \"${filename}\": `;\n",
              "      div.appendChild(label);\n",
              "      const progress = document.createElement('progress');\n",
              "      progress.max = size;\n",
              "      div.appendChild(progress);\n",
              "      document.body.appendChild(div);\n",
              "\n",
              "      const buffers = [];\n",
              "      let downloaded = 0;\n",
              "\n",
              "      const channel = await google.colab.kernel.comms.open(id);\n",
              "      // Send a message to notify the kernel that we're ready.\n",
              "      channel.send({})\n",
              "\n",
              "      for await (const message of channel.messages) {\n",
              "        // Send a message to notify the kernel that we're ready.\n",
              "        channel.send({})\n",
              "        if (message.buffers) {\n",
              "          for (const buffer of message.buffers) {\n",
              "            buffers.push(buffer);\n",
              "            downloaded += buffer.byteLength;\n",
              "            progress.value = downloaded;\n",
              "          }\n",
              "        }\n",
              "      }\n",
              "      const blob = new Blob(buffers, {type: 'application/binary'});\n",
              "      const a = document.createElement('a');\n",
              "      a.href = window.URL.createObjectURL(blob);\n",
              "      a.download = filename;\n",
              "      div.appendChild(a);\n",
              "      a.click();\n",
              "      div.remove();\n",
              "    }\n",
              "  "
            ],
            "text/plain": [
              "<IPython.core.display.Javascript object>"
            ]
          },
          "metadata": {
            "tags": []
          }
        },
        {
          "output_type": "display_data",
          "data": {
            "application/javascript": [
              "download(\"download_3597ff1e-7d67-458a-9707-8c1d74a7431a\", \"cog-post_by_sample_processed.tsv.gz\", 1148924)"
            ],
            "text/plain": [
              "<IPython.core.display.Javascript object>"
            ]
          },
          "metadata": {
            "tags": []
          }
        },
        {
          "output_type": "display_data",
          "data": {
            "application/javascript": [
              "\n",
              "    async function download(id, filename, size) {\n",
              "      if (!google.colab.kernel.accessAllowed) {\n",
              "        return;\n",
              "      }\n",
              "      const div = document.createElement('div');\n",
              "      const label = document.createElement('label');\n",
              "      label.textContent = `Downloading \"${filename}\": `;\n",
              "      div.appendChild(label);\n",
              "      const progress = document.createElement('progress');\n",
              "      progress.max = size;\n",
              "      div.appendChild(progress);\n",
              "      document.body.appendChild(div);\n",
              "\n",
              "      const buffers = [];\n",
              "      let downloaded = 0;\n",
              "\n",
              "      const channel = await google.colab.kernel.comms.open(id);\n",
              "      // Send a message to notify the kernel that we're ready.\n",
              "      channel.send({})\n",
              "\n",
              "      for await (const message of channel.messages) {\n",
              "        // Send a message to notify the kernel that we're ready.\n",
              "        channel.send({})\n",
              "        if (message.buffers) {\n",
              "          for (const buffer of message.buffers) {\n",
              "            buffers.push(buffer);\n",
              "            downloaded += buffer.byteLength;\n",
              "            progress.value = downloaded;\n",
              "          }\n",
              "        }\n",
              "      }\n",
              "      const blob = new Blob(buffers, {type: 'application/binary'});\n",
              "      const a = document.createElement('a');\n",
              "      a.href = window.URL.createObjectURL(blob);\n",
              "      a.download = filename;\n",
              "      div.appendChild(a);\n",
              "      a.click();\n",
              "      div.remove();\n",
              "    }\n",
              "  "
            ],
            "text/plain": [
              "<IPython.core.display.Javascript object>"
            ]
          },
          "metadata": {
            "tags": []
          }
        },
        {
          "output_type": "display_data",
          "data": {
            "application/javascript": [
              "download(\"download_26dd66d0-e7c8-4d56-816f-de07a5b68a26\", \"cog-post_by_var_processed.tsv.gz\", 1238347)"
            ],
            "text/plain": [
              "<IPython.core.display.Javascript object>"
            ]
          },
          "metadata": {
            "tags": []
          }
        }
      ]
    }
  ]
}