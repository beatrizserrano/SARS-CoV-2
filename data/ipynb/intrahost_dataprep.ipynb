{
  "nbformat": 4,
  "nbformat_minor": 0,
  "metadata": {
    "colab": {
      "name": "intrahost_dataprep_drive.ipynb",
      "provenance": []
    },
    "kernelspec": {
      "name": "python3",
      "display_name": "Python 3"
    }
  },
  "cells": [
    {
      "cell_type": "markdown",
      "metadata": {
        "id": "Vu7QptAGqUKQ"
      },
      "source": [
        "# Preparing data\n",
        "\n",
        "This notebook reads data processed by Galaxy and\n",
        "\n",
        " 1. Validates sites to ensire that coordinates are correct\n",
        " 2. Adds information about variants of concern (VOC) and sites under selection\n"
      ]
    },
    {
      "cell_type": "code",
      "metadata": {
        "id": "cIK2BG_RA7W1"
      },
      "source": [
        "import pandas as pd\n",
        "import seaborn as sns"
      ],
      "execution_count": 1,
      "outputs": []
    },
    {
      "cell_type": "code",
      "metadata": {
        "id": "F4pCWZVcA-q3",
        "colab": {
          "base_uri": "https://localhost:8080/"
        },
        "outputId": "cad9ea1b-0878-4bbc-8ca9-ffb573d13bdf"
      },
      "source": [
        "!pip install pandasql"
      ],
      "execution_count": 2,
      "outputs": [
        {
          "output_type": "stream",
          "text": [
            "Collecting pandasql\n",
            "  Downloading https://files.pythonhosted.org/packages/6b/c4/ee4096ffa2eeeca0c749b26f0371bd26aa5c8b611c43de99a4f86d3de0a7/pandasql-0.7.3.tar.gz\n",
            "Requirement already satisfied: numpy in /usr/local/lib/python3.7/dist-packages (from pandasql) (1.19.5)\n",
            "Requirement already satisfied: pandas in /usr/local/lib/python3.7/dist-packages (from pandasql) (1.1.5)\n",
            "Requirement already satisfied: sqlalchemy in /usr/local/lib/python3.7/dist-packages (from pandasql) (1.3.23)\n",
            "Requirement already satisfied: python-dateutil>=2.7.3 in /usr/local/lib/python3.7/dist-packages (from pandas->pandasql) (2.8.1)\n",
            "Requirement already satisfied: pytz>=2017.2 in /usr/local/lib/python3.7/dist-packages (from pandas->pandasql) (2018.9)\n",
            "Requirement already satisfied: six>=1.5 in /usr/local/lib/python3.7/dist-packages (from python-dateutil>=2.7.3->pandas->pandasql) (1.15.0)\n",
            "Building wheels for collected packages: pandasql\n",
            "  Building wheel for pandasql (setup.py) ... \u001b[?25l\u001b[?25hdone\n",
            "  Created wheel for pandasql: filename=pandasql-0.7.3-cp37-none-any.whl size=26820 sha256=e655a5ef5b9f777fb8d550a0a2826689f7cce243bc1ab47db2e989ca3e2bc92b\n",
            "  Stored in directory: /root/.cache/pip/wheels/53/6c/18/b87a2e5fa8a82e9c026311de56210b8d1c01846e18a9607fc9\n",
            "Successfully built pandasql\n",
            "Installing collected packages: pandasql\n",
            "Successfully installed pandasql-0.7.3\n"
          ],
          "name": "stdout"
        }
      ]
    },
    {
      "cell_type": "code",
      "metadata": {
        "id": "FXg3tWVDC2Bc"
      },
      "source": [
        "from pandasql import sqldf\n",
        "pysqldf = lambda q: sqldf(q, globals())"
      ],
      "execution_count": 3,
      "outputs": []
    },
    {
      "cell_type": "markdown",
      "metadata": {
        "id": "3KKkgGSTQBEj"
      },
      "source": [
        "## Which dataset to run notebook on?\n",
        "At this time there are three possible datasets:\n",
        "\n",
        " - Boston: `boston`\n",
        " - COG-Pre: `cog-pre`\n",
        " - COG-Post: `cog-post`\n",
        "\n",
        "Setting this variable runs all notebook content for this particular dataset. The actual paths are pulled out from `datasets` dict (next cell)"
      ]
    },
    {
      "cell_type": "code",
      "metadata": {
        "id": "VeM9UwoaP7xk"
      },
      "source": [
        "dataset = 'cog-post'"
      ],
      "execution_count": 4,
      "outputs": []
    },
    {
      "cell_type": "code",
      "metadata": {
        "id": "5leIFwH3Qcx7"
      },
      "source": [
        "datasets = {\n",
        "    'boston':\n",
        "        [   \n",
        "            'https://github.com/galaxyproject/SARS-CoV-2/raw/master/data/var/bos_by_sample.tsv.gz',\n",
        "            'https://github.com/galaxyproject/SARS-CoV-2/raw/master/data/var/bos_by_var.tsv.gz'\n",
        "        ],\n",
        "    'cog-pre': \n",
        "        [   \n",
        "            'https://github.com/galaxyproject/SARS-CoV-2/raw/master/data/var/cog_20200917_by_sample.tsv.gz',\n",
        "            'https://github.com/galaxyproject/SARS-CoV-2/raw/master/data/var/cog_20200917_by_var.tsv.gz'\n",
        "        ],\n",
        "    'cog-post': \n",
        "        [   \n",
        "            'https://github.com/galaxyproject/SARS-CoV-2/raw/master/data/var/cog_20201120_by_sample.tsv.gz',\n",
        "            'https://github.com/galaxyproject/SARS-CoV-2/raw/master/data/var/cog_20201120_by_var.tsv.gz'\n",
        "        ]\n",
        "}"
      ],
      "execution_count": 5,
      "outputs": []
    },
    {
      "cell_type": "markdown",
      "metadata": {
        "id": "YtWjrgRm7r4s"
      },
      "source": [
        "## Load annotation datasets:\n",
        "\n",
        "- SARS genomes as FASTA file\n",
        "- Variants of concern\n",
        "- Selection data"
      ]
    },
    {
      "cell_type": "code",
      "metadata": {
        "id": "6MRXk5huoSCv"
      },
      "source": [
        "# SARS-CoV-2 genome assembly url\n",
        "gnm_url = 'https://ftp.ncbi.nlm.nih.gov/genomes/all/GCF/009/858/895/GCF_009858895.2_ASM985889v3/GCF_009858895.2_ASM985889v3_genomic.fna.gz'\n",
        "gnm_file = gnm_url.split('/')[-1]\n",
        "# VOC data\n",
        "voc_url = 'https://github.com/galaxyproject/SARS-CoV-2/raw/master/data/voc/voc.tsv.gz'\n",
        "# Selection data\n",
        "sel_url = 'https://github.com/galaxyproject/SARS-CoV-2/raw/master/data/selection/selection.tsv.gz'"
      ],
      "execution_count": 6,
      "outputs": []
    },
    {
      "cell_type": "code",
      "metadata": {
        "id": "UBPHCf3PvMpq",
        "colab": {
          "base_uri": "https://localhost:8080/"
        },
        "outputId": "10daaf53-3d48-4dc3-e3cf-0a0ff4dbb339"
      },
      "source": [
        "# Get SARS-CoV-2 RefSeq genomes (in GenBank format) from NCBI\n",
        "import os.path\n",
        "from os import path\n",
        "if not path.exists(gnm_file[:-3]):\n",
        "    !wget -nc {gnm_url}\n",
        "    !gunzip {gnm_file}\n",
        "else:\n",
        "    print('File {} is already here\\nDoing nothing!'.format(gnm_file))"
      ],
      "execution_count": 7,
      "outputs": [
        {
          "output_type": "stream",
          "text": [
            "--2021-02-25 19:57:28--  https://ftp.ncbi.nlm.nih.gov/genomes/all/GCF/009/858/895/GCF_009858895.2_ASM985889v3/GCF_009858895.2_ASM985889v3_genomic.fna.gz\n",
            "Resolving ftp.ncbi.nlm.nih.gov (ftp.ncbi.nlm.nih.gov)... 130.14.250.11, 130.14.250.12, 2607:f220:41e:250::12, ...\n",
            "Connecting to ftp.ncbi.nlm.nih.gov (ftp.ncbi.nlm.nih.gov)|130.14.250.11|:443... connected.\n",
            "HTTP request sent, awaiting response... 200 OK\n",
            "Length: 9591 (9.4K) [application/x-gzip]\n",
            "Saving to: ‘GCF_009858895.2_ASM985889v3_genomic.fna.gz’\n",
            "\n",
            "GCF_009858895.2_ASM 100%[===================>]   9.37K  --.-KB/s    in 0s      \n",
            "\n",
            "2021-02-25 19:57:28 (187 MB/s) - ‘GCF_009858895.2_ASM985889v3_genomic.fna.gz’ saved [9591/9591]\n",
            "\n"
          ],
          "name": "stdout"
        }
      ]
    },
    {
      "cell_type": "code",
      "metadata": {
        "id": "tPp_5T4exEd_"
      },
      "source": [
        "seq = \"\"\n",
        "with open(gnm_file[:-3],'r') as f:\n",
        "    for line in f:\n",
        "        if not line.startswith('>'):\n",
        "            seq += line.rstrip()"
      ],
      "execution_count": 8,
      "outputs": []
    },
    {
      "cell_type": "markdown",
      "metadata": {
        "id": "XqFDZuM87_DJ"
      },
      "source": [
        "## Load and validate the data\n",
        "\n",
        "- Translate `FUNCLASS` names\n",
        "- Convert coordinates to 0-based (because VCFs are 1-based)\n",
        "- Validate all sites by comparing contains of `REF` field to genome"
      ]
    },
    {
      "cell_type": "code",
      "metadata": {
        "id": "JSz-w_zW7v5n"
      },
      "source": [
        "var =   pd.read_csv(datasets[dataset][0],sep='\\t')\n",
        "sites = pd.read_csv(datasets[dataset][1],sep='\\t')"
      ],
      "execution_count": 9,
      "outputs": []
    },
    {
      "cell_type": "code",
      "metadata": {
        "id": "afM6ZJfZgwHo"
      },
      "source": [
        "funclass_translation = {'SILENT':'Synonymous','MISSENSE':'Non-synonymous','NONSENSE':'Stop','.':'Non-coding','NONE':'Indel'}\n",
        "var = var.replace({'FUNCLASS':funclass_translation})\n",
        "sites = sites.replace({'FUNCLASS':funclass_translation})"
      ],
      "execution_count": 10,
      "outputs": []
    },
    {
      "cell_type": "code",
      "metadata": {
        "id": "nzg3np_sYLgx"
      },
      "source": [
        "# Changing coordinates to 0-based\n",
        "var['POS'] = var['POS']-1\n",
        "sites['POS'] = sites['POS']-1"
      ],
      "execution_count": 11,
      "outputs": []
    },
    {
      "cell_type": "code",
      "metadata": {
        "id": "J6XdtU9yRGau"
      },
      "source": [
        "# Validation function for checking against genome\n",
        "\n",
        "def check_against_genome(seq,df,fields,name,debug=False):\n",
        "    \n",
        "    \"\"\" Takes sequence (seq), dataframe (df),\n",
        "    names of columns containing position and reference allele\n",
        "    (e.g., ['POS','REF']), and dataframe name.\n",
        "    Setting debud to True outputs a list of problematic sites.\n",
        "\n",
        "    Returns a dict with counts and list of wrong sites if any.\n",
        "    \"\"\"\n",
        "\n",
        "    df.name = df\n",
        "    wrong = []\n",
        "    bad = 0\n",
        "    good = 0\n",
        "    pb = df[fields].to_numpy()\n",
        "    for pos,ref in pb:\n",
        "        base = seq[pos:pos+len(ref)]\n",
        "        if base == ref:\n",
        "            good += 1\n",
        "        else:\n",
        "            bad += 1\n",
        "            wrong.append([pos,ref])\n",
        "    if debug is True:\n",
        "        return(wrong)\n",
        "    else:\n",
        "        return([name,good,bad,len(df)])"
      ],
      "execution_count": 12,
      "outputs": []
    },
    {
      "cell_type": "code",
      "metadata": {
        "id": "bxSIquwv12X2",
        "colab": {
          "base_uri": "https://localhost:8080/"
        },
        "outputId": "c517e63c-2819-4a71-c40b-4bc76f5395e0"
      },
      "source": [
        "outcome = pd.DataFrame(columns=['dataset','good','bad','size'])\n",
        "outcome.loc[len(outcome)] = check_against_genome(seq,var,['POS','REF'],'var')\n",
        "outcome.loc[len(outcome)] = check_against_genome(seq,sites,['POS','REF'],'sites')"
      ],
      "execution_count": 13,
      "outputs": [
        {
          "output_type": "stream",
          "text": [
            "/usr/local/lib/python3.7/dist-packages/ipykernel_launcher.py:13: UserWarning: Pandas doesn't allow columns to be created via a new attribute name - see https://pandas.pydata.org/pandas-docs/stable/indexing.html#attribute-access\n",
            "  del sys.path[0]\n"
          ],
          "name": "stderr"
        }
      ]
    },
    {
      "cell_type": "code",
      "metadata": {
        "id": "hCodqSUIDm-_"
      },
      "source": [
        "class coordinateError(Exception):   \n",
        "    def __init__(self, data):    \n",
        "        self.data = data\n",
        "    def __str__(self):\n",
        "        return repr(self.data)\n",
        "\n",
        "if outcome['bad'].sum() > 0:\n",
        "    raise coordinateError(\"{} sites were not verified. Run check_agianst_genome with debig=True\".format(outcome['bad'].sum()))"
      ],
      "execution_count": 14,
      "outputs": []
    },
    {
      "cell_type": "markdown",
      "metadata": {
        "id": "sjnmN5Yt9FuC"
      },
      "source": [
        "## Add info about sites under selection"
      ]
    },
    {
      "cell_type": "code",
      "metadata": {
        "id": "9natI6Q3CodB"
      },
      "source": [
        "sel = pd.read_csv(sel_url,sep='\\t')"
      ],
      "execution_count": 15,
      "outputs": []
    },
    {
      "cell_type": "code",
      "metadata": {
        "id": "PRSFTAC3rYvV"
      },
      "source": [
        "# Add info about sites under sleection to the main variant table\n",
        "sites = pysqldf('select sites.*, sel.fel_p,sel.meme_p,sel.freq from sites left join sel on sites.POS >= sel.pos and sites.POS <= sel.pos+2 ')\n",
        "var = pysqldf('select var.*, sel.fel_p,sel.meme_p,sel.freq from var left join sel on var.POS >= sel.pos and var.POS <= sel.pos+2 ')"
      ],
      "execution_count": 16,
      "outputs": []
    },
    {
      "cell_type": "markdown",
      "metadata": {
        "id": "1hEYU9NL9QGR"
      },
      "source": [
        "## Add information about Variants of Concern (VOCs)"
      ]
    },
    {
      "cell_type": "code",
      "metadata": {
        "id": "Ryxa0UJ_DDmY"
      },
      "source": [
        "voc = pd.read_csv(voc_url, sep='\\t',names=['voc_set','mut','position'],header=None)"
      ],
      "execution_count": 17,
      "outputs": []
    },
    {
      "cell_type": "code",
      "metadata": {
        "id": "N3mdSZ5UjjrI"
      },
      "source": [
        "for item in voc['voc_set'].unique():\n",
        "    sites = pysqldf('select sites.*, mut from sites left join voc on (POS >= position and POS < position+3) and voc_set = \"{0}\"'.format(item))\n",
        "    sites = sites.rename(columns={\"mut\": item})\n",
        "    var = pysqldf('select var.*, mut from var left join voc on (POS >= position and POS < position+3) and voc_set = \"{0}\"'.format(item))\n",
        "    var = var.rename(columns={\"mut\": item})"
      ],
      "execution_count": 18,
      "outputs": []
    },
    {
      "cell_type": "markdown",
      "metadata": {
        "id": "hWRc28kr9XP9"
      },
      "source": [
        "## Set varinats types"
      ]
    },
    {
      "cell_type": "code",
      "metadata": {
        "id": "GSNhtjmmE7nQ"
      },
      "source": [
        "# Assumes df has columns labelled 'ALT' and 'REF'\n",
        "def chng_type(df):\n",
        "    df.loc[df['REF'].str.len() == df['ALT'].str.len(), 'type'] = 'SNP'\n",
        "    df.loc[df['REF'].str.len() != df['ALT'].str.len(), 'type'] = 'Indel'"
      ],
      "execution_count": 19,
      "outputs": []
    },
    {
      "cell_type": "code",
      "metadata": {
        "id": "6fVfJJ1mT6LV"
      },
      "source": [
        "chng_type(var)\n",
        "chng_type(sites)"
      ],
      "execution_count": 20,
      "outputs": []
    },
    {
      "cell_type": "markdown",
      "metadata": {
        "id": "VerxAonT9gIg"
      },
      "source": [
        "## Summarize"
      ]
    },
    {
      "cell_type": "code",
      "metadata": {
        "colab": {
          "base_uri": "https://localhost:8080/",
          "height": 400
        },
        "id": "ymBnqGe_9pTK",
        "outputId": "5390b5fc-0555-45ae-c6b4-6724e9579118"
      },
      "source": [
        "sns.set_style(\"whitegrid\")\n",
        "sns.catplot(\n",
        "    y='Count',\n",
        "    x='Metric',hue='dataset',\n",
        "    sizes=(500,500),\n",
        "    alpha=.6,\n",
        "    data=outcome.melt(\n",
        "        id_vars=['dataset'],\n",
        "        value_vars=['good','bad','size'],\n",
        "        value_name='Count',var_name='Metric'\n",
        "        )\n",
        "    )"
      ],
      "execution_count": 21,
      "outputs": [
        {
          "output_type": "execute_result",
          "data": {
            "text/plain": [
              "<seaborn.axisgrid.FacetGrid at 0x7f11259d07d0>"
            ]
          },
          "metadata": {
            "tags": []
          },
          "execution_count": 21
        },
        {
          "output_type": "display_data",
          "data": {
            "image/png": "[encoded data removed]",
            "text/plain": [
              "<Figure size 419.375x360 with 1 Axes>"
            ]
          },
          "metadata": {
            "tags": []
          }
        }
      ]
    },
    {
      "cell_type": "markdown",
      "metadata": {
        "id": "UdraE5COQWUF"
      },
      "source": [
        "## Add count of unqiue samples and give columns humane names\n",
        "\n",
        "Here we add two columns to each table:\n",
        "\n",
        "- `all_samples` - the number of samples containing a given variant at *any* frequency (even very low)\n",
        "- `samples` - the number of samples containing a given varianst with a frequency above the threshold set by the Galaxy variant calling workflow (usually 5%)"
      ]
    },
    {
      "cell_type": "code",
      "metadata": {
        "id": "QKMySDNuIfpH"
      },
      "source": [
        "var = var.rename(columns={'countunique(change)':'unique_change','countunique(FUNCLASS)':'unique_funclass'})"
      ],
      "execution_count": 22,
      "outputs": []
    },
    {
      "cell_type": "code",
      "metadata": {
        "id": "D_aLjzNKJ1JU"
      },
      "source": [
        "sample_counts = pysqldf('select POS, ALT, REF,count(*) as N from var group by POS, ALT, REF ')"
      ],
      "execution_count": 23,
      "outputs": []
    },
    {
      "cell_type": "code",
      "metadata": {
        "id": "6uGzrsOVPoo4"
      },
      "source": [
        "var = pysqldf('select var.*, N as samples from var left join sample_counts on var.POS = sample_counts.POS and var.REF = sample_counts.REF and var.ALT = sample_counts.ALT')"
      ],
      "execution_count": 24,
      "outputs": []
    },
    {
      "cell_type": "code",
      "metadata": {
        "id": "eubuyAr4QhSy"
      },
      "source": [
        "sites = sites.rename(columns={'countunique(Sample)':'all_samples','min(AF)':'mAF','max(AF)':'xAF'})\n",
        "var = sites.rename(columns={'min(AF)':'mAF','max(AF)':'xAF'})"
      ],
      "execution_count": 25,
      "outputs": []
    },
    {
      "cell_type": "code",
      "metadata": {
        "id": "2VxRPBr8Vy_U"
      },
      "source": [
        "sites['samples'] = list(map(len,sites['SAMPLES(above-thresholds)'].str.split(',')))"
      ],
      "execution_count": 26,
      "outputs": []
    },
    {
      "cell_type": "markdown",
      "metadata": {
        "id": "vd18itNeBhe6"
      },
      "source": [
        "## Write files"
      ]
    },
    {
      "cell_type": "code",
      "metadata": {
        "id": "zRE1LWh9SscH"
      },
      "source": [
        "var.to_csv('{}_by_sample_processed.tsv'.format(dataset),sep='\\t',index=False)\n",
        "sites.to_csv('{}_by_var_processed.tsv'.format(dataset),sep='\\t',index=False)\n",
        "!gzip *.tsv"
      ],
      "execution_count": 27,
      "outputs": []
    },
    {
      "cell_type": "code",
      "metadata": {
        "id": "kKdGhvSN91tZ",
        "colab": {
          "base_uri": "https://localhost:8080/",
          "height": 17
        },
        "outputId": "6e0c3c35-fcdd-4fac-cba4-ad9685cde0fc"
      },
      "source": [
        "from google.colab import files\n",
        "files.download('{}_by_sample_processed.tsv.gz'.format(dataset))\n",
        "files.download('{}_by_var_processed.tsv.gz'.format(dataset))"
      ],
      "execution_count": 28,
      "outputs": [
        {
          "output_type": "display_data",
          "data": {
            "application/javascript": [
              "\n",
              "    async function download(id, filename, size) {\n",
              "      if (!google.colab.kernel.accessAllowed) {\n",
              "        return;\n",
              "      }\n",
              "      const div = document.createElement('div');\n",
              "      const label = document.createElement('label');\n",
              "      label.textContent = `Downloading \"${filename}\": `;\n",
              "      div.appendChild(label);\n",
              "      const progress = document.createElement('progress');\n",
              "      progress.max = size;\n",
              "      div.appendChild(progress);\n",
              "      document.body.appendChild(div);\n",
              "\n",
              "      const buffers = [];\n",
              "      let downloaded = 0;\n",
              "\n",
              "      const channel = await google.colab.kernel.comms.open(id);\n",
              "      // Send a message to notify the kernel that we're ready.\n",
              "      channel.send({})\n",
              "\n",
              "      for await (const message of channel.messages) {\n",
              "        // Send a message to notify the kernel that we're ready.\n",
              "        channel.send({})\n",
              "        if (message.buffers) {\n",
              "          for (const buffer of message.buffers) {\n",
              "            buffers.push(buffer);\n",
              "            downloaded += buffer.byteLength;\n",
              "            progress.value = downloaded;\n",
              "          }\n",
              "        }\n",
              "      }\n",
              "      const blob = new Blob(buffers, {type: 'application/binary'});\n",
              "      const a = document.createElement('a');\n",
              "      a.href = window.URL.createObjectURL(blob);\n",
              "      a.download = filename;\n",
              "      div.appendChild(a);\n",
              "      a.click();\n",
              "      div.remove();\n",
              "    }\n",
              "  "
            ],
            "text/plain": [
              "<IPython.core.display.Javascript object>"
            ]
          },
          "metadata": {
            "tags": []
          }
        },
        {
          "output_type": "display_data",
          "data": {
            "application/javascript": [
              "download(\"download_64398ef7-4960-42d0-8f0f-8de3d5008c44\", \"cog-post_by_sample_processed.tsv.gz\", 1238331)"
            ],
            "text/plain": [
              "<IPython.core.display.Javascript object>"
            ]
          },
          "metadata": {
            "tags": []
          }
        },
        {
          "output_type": "display_data",
          "data": {
            "application/javascript": [
              "\n",
              "    async function download(id, filename, size) {\n",
              "      if (!google.colab.kernel.accessAllowed) {\n",
              "        return;\n",
              "      }\n",
              "      const div = document.createElement('div');\n",
              "      const label = document.createElement('label');\n",
              "      label.textContent = `Downloading \"${filename}\": `;\n",
              "      div.appendChild(label);\n",
              "      const progress = document.createElement('progress');\n",
              "      progress.max = size;\n",
              "      div.appendChild(progress);\n",
              "      document.body.appendChild(div);\n",
              "\n",
              "      const buffers = [];\n",
              "      let downloaded = 0;\n",
              "\n",
              "      const channel = await google.colab.kernel.comms.open(id);\n",
              "      // Send a message to notify the kernel that we're ready.\n",
              "      channel.send({})\n",
              "\n",
              "      for await (const message of channel.messages) {\n",
              "        // Send a message to notify the kernel that we're ready.\n",
              "        channel.send({})\n",
              "        if (message.buffers) {\n",
              "          for (const buffer of message.buffers) {\n",
              "            buffers.push(buffer);\n",
              "            downloaded += buffer.byteLength;\n",
              "            progress.value = downloaded;\n",
              "          }\n",
              "        }\n",
              "      }\n",
              "      const blob = new Blob(buffers, {type: 'application/binary'});\n",
              "      const a = document.createElement('a');\n",
              "      a.href = window.URL.createObjectURL(blob);\n",
              "      a.download = filename;\n",
              "      div.appendChild(a);\n",
              "      a.click();\n",
              "      div.remove();\n",
              "    }\n",
              "  "
            ],
            "text/plain": [
              "<IPython.core.display.Javascript object>"
            ]
          },
          "metadata": {
            "tags": []
          }
        },
        {
          "output_type": "display_data",
          "data": {
            "application/javascript": [
              "download(\"download_c6b126ec-167b-41ec-875d-068097b18c69\", \"cog-post_by_var_processed.tsv.gz\", 1243037)"
            ],
            "text/plain": [
              "<IPython.core.display.Javascript object>"
            ]
          },
          "metadata": {
            "tags": []
          }
        }
      ]
    }
  ]
}